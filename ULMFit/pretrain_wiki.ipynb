{
 "cells": [
  {
   "cell_type": "markdown",
   "metadata": {},
   "source": [
    "# Thai2Vec Wiki Pretraining\n",
    "\n",
    "The goal of this notebook is to train Thai word embeddings using the [fast.ai](http://www.fast.ai/) version of [AWD LSTM Language Model](https://arxiv.org/abs/1708.02182)--basically LSTM with droupouts--with data from [Wikipedia](https://dumps.wikimedia.org/thwiki/latest/thwiki-latest-pages-articles.xml.bz2) (last updated May 21, 2018). Using 80/20 train-validation split, we achieved perplexity of **34.87803 with 60,002 embeddings at 300 dimensions**, compared to state-of-the-art as of June 12, 2018 at **40.68 for English WikiText-2 by [Yang et al (2017)](https://arxiv.org/abs/1711.03953)** and **29.2 for English WikiText-103 by [Rae et al (2018)](https://arxiv.org/abs/1803.10049)**. To the best of our knowledge, there is no comparable research in Thai language at the point of writing (June 12, 2018).\n",
    "\n",
    "Our workflow is as follows:\n",
    "\n",
    "* Perform 80/20 train-validation split\n",
    "* Minimal text cleaning and tokenization using `newmm` engine of `pyThaiNLP`\n",
    "* Get embeddings of ecommerce dataset from train set\n",
    "* Train language model\n",
    "* Evaluate model based on perplexity and eyeballing"
   ]
  },
  {
   "cell_type": "markdown",
   "metadata": {},
   "source": [
    "## Imports"
   ]
  },
  {
   "cell_type": "code",
   "execution_count": 1,
   "metadata": {
    "ExecuteTime": {
     "end_time": "2018-01-25T03:30:25.407566Z",
     "start_time": "2018-01-25T03:30:21.597641Z"
    }
   },
   "outputs": [],
   "source": [
    "%reload_ext autoreload\n",
    "%autoreload 2\n",
    "%matplotlib inline\n",
    "\n",
    "import re\n",
    "import html\n",
    "\n",
    "from fastai.text import *\n",
    "from utils import *\n",
    "from pythainlp.tokenize import word_tokenize\n",
    "\n",
    "import dill as pickle\n",
    "from IPython.display import Image\n",
    "from IPython.core.display import HTML \n",
    "\n",
    "DATA_PATH='/home/ubuntu/Projects/new2vec/lm_data/'\n",
    "\n",
    "RAW_PATH = f'{DATA_PATH}raw/'\n",
    "EXT_PATH = f'{RAW_PATH}extract/'\n",
    "TRN_PATH = f'{DATA_PATH}train/'\n",
    "VAL_PATH = f'{DATA_PATH}valid/'\n",
    "SAMPLE_PATH = f'{DATA_PATH}sample/'\n",
    "MODEL_PATH = f'{DATA_PATH}models/'\n",
    "\n",
    "ext_files = !ls {EXT_PATH}"
   ]
  },
  {
   "cell_type": "markdown",
   "metadata": {},
   "source": [
    "## Text Cleaning"
   ]
  },
  {
   "cell_type": "code",
   "execution_count": 2,
   "metadata": {
    "ExecuteTime": {
     "end_time": "2018-01-16T10:16:59.532902Z",
     "start_time": "2018-01-16T10:16:59.460836Z"
    }
   },
   "outputs": [],
   "source": [
    "#!cd $RAW_PATH; wget https://dumps.wikimedia.org/thwiki/latest/thwiki-latest-pages-articles.xml.bz2\n",
    "#!cd $RAW_PATH; bzip2 -dk thwiki-latest-pages-articles.xml.bz2 \n",
    "#!cd $RAW_PATH; python /home/ubuntu/Projects/wikiextractor/WikiExtractor.py thwiki-latest-pages-articles.xml -o extract -b 10M --ignored_tags abbr,b,big --discard_elements gallery,timeline,noinclude\n",
    "#!cd $EXT_PATH/AA; mv * ../; cd ..; rm -r AA"
   ]
  },
  {
   "cell_type": "markdown",
   "metadata": {},
   "source": [
    "### Save as Plain Text\n",
    "\n",
    "We perform the following minimal text processing:\n",
    "* Remove html tags, empty brackets and needless `ฯ`\n",
    "* The token `xbos` is used to note start of a text since we will be chaining them together for the language model training. \n",
    "* `pyThaiNLP`'s `newmm` word tokenizer is used to tokenize the texts.\n",
    "* `tkrep` is used to replace repetitive characters such as `อร่อยมากกกกกก` becoming `อรอ่ยมาtkrep6ก`"
   ]
  },
  {
   "cell_type": "code",
   "execution_count": 3,
   "metadata": {
    "ExecuteTime": {
     "end_time": "2018-01-17T15:17:58.013127Z",
     "start_time": "2018-01-17T15:17:42.549529Z"
    }
   },
   "outputs": [],
   "source": [
    "# re1 = re.compile(r'  +')\n",
    "\n",
    "# def fixup(x):\n",
    "#     x = x.replace('#39;', \"'\").replace('amp;', '&').replace('#146;', \"'\").replace(\n",
    "#         'nbsp;', ' ').replace('#36;', '$').replace('\\\\n', \"\\n\").replace('quot;', \"'\").replace(\n",
    "#         '<br />', \"\\n\").replace('\\\\\"', '\"').replace('<unk>','u_n').replace(' @.@ ','.').replace(\n",
    "#         ' @-@ ','-').replace('\\\\', ' \\\\ ')\n",
    "#     return re1.sub(' ', html.unescape(x))\n",
    "\n",
    "# cleaned_all = []\n",
    "# for ext_file in ext_files:\n",
    "#     raw_txt = !cat {EXT_PATH}{ext_file}\n",
    "#     cleaned_doc = []\n",
    "#     for line in raw_txt:\n",
    "#         #standard fixes\n",
    "#         new_line = fixup(line)\n",
    "#         #remove tags\n",
    "#         new_line = re.sub('<[^<]+?>', '', new_line)\n",
    "#         new_line = re.sub('__[^<]+?__', '', new_line) \n",
    "#         #remove ฯ but not ฯลฯ\n",
    "#         new_line = re.sub('(?<!ฯล)ฯ(?!ลฯ)','', new_line)\n",
    "#         #remove empty brackets\n",
    "#         new_line = re.sub('\\(\\)','',new_line)\n",
    "#         new_line = re.sub('\\{\\}','',new_line)\n",
    "#         new_line = re.sub('\\[\\]','',new_line)\n",
    "#         #if there are more than five characters left\n",
    "#         if len(new_line) > 5:\n",
    "#             cleaned_doc.append(new_line)\n",
    "#         else:\n",
    "#             pass\n",
    "#     new_doc = '\\n'.join(cleaned_doc)\n",
    "#     with open(f\"{TRN_PATH}{ext_file}.txt\", \"w\") as text_file:\n",
    "#         text_file.write(new_doc)\n",
    "#     text_file.close()\n",
    "#     cleaned_all.append(cleaned_doc)"
   ]
  },
  {
   "cell_type": "code",
   "execution_count": 4,
   "metadata": {
    "ExecuteTime": {
     "end_time": "2018-01-17T15:18:20.910056Z",
     "start_time": "2018-01-17T15:18:20.796886Z"
    }
   },
   "outputs": [],
   "source": [
    "# trn_files = !ls {TRN_PATH}\n",
    "# val_files = !ls {VAL_PATH}"
   ]
  },
  {
   "cell_type": "markdown",
   "metadata": {},
   "source": [
    "### Create Validation Set"
   ]
  },
  {
   "cell_type": "code",
   "execution_count": 5,
   "metadata": {
    "ExecuteTime": {
     "end_time": "2018-01-17T15:19:28.662393Z",
     "start_time": "2018-01-17T15:19:28.603161Z"
    }
   },
   "outputs": [],
   "source": [
    "# import random\n",
    "# random.seed(1412)\n",
    "\n",
    "# random.shuffle(trn_files)\n",
    "# val_files = trn_files[:10]\n",
    "# trn_files = trn_files[10:]"
   ]
  },
  {
   "cell_type": "code",
   "execution_count": 6,
   "metadata": {
    "ExecuteTime": {
     "end_time": "2018-01-17T15:19:34.451766Z",
     "start_time": "2018-01-17T15:19:34.392211Z"
    }
   },
   "outputs": [],
   "source": [
    "# import shutil, os\n",
    "# for root, dirs, files in os.walk(TRN_PATH):\n",
    "#     for file in files:\n",
    "#         if file.endswith(\".txt\") & (file in val_files):\n",
    "#             shutil.move(os.path.join(root, file),VAL_PATH)"
   ]
  },
  {
   "cell_type": "code",
   "execution_count": 3,
   "metadata": {
    "ExecuteTime": {
     "end_time": "2018-01-17T15:20:30.038345Z",
     "start_time": "2018-01-17T15:20:29.934723Z"
    }
   },
   "outputs": [],
   "source": [
    "trn_files = !ls {TRN_PATH}\n",
    "val_files = !ls {VAL_PATH}"
   ]
  },
  {
   "cell_type": "markdown",
   "metadata": {},
   "source": [
    "## Data Preparation\n",
    "\n",
    "We used the `newmm` engine of `pyThaiNLP` to perform tokenization. Out of 42,130,668 tokens from all of training set, we chose 60,000 embeddings (plus one for unknown and another for padding) of tokens which appeared more than twice (not typos) in the training set."
   ]
  },
  {
   "cell_type": "markdown",
   "metadata": {},
   "source": [
    "### Thai Tokenizer"
   ]
  },
  {
   "cell_type": "code",
   "execution_count": 2,
   "metadata": {
    "ExecuteTime": {
     "end_time": "2018-01-24T15:50:02.035245Z",
     "start_time": "2018-01-24T15:50:01.940191Z"
    }
   },
   "outputs": [
    {
     "data": {
      "text/plain": [
       "['วิทยาศาสตร์',\n",
       " 'ดาวเคราะห์',\n",
       " 'เป็น',\n",
       " 'สาขาวิชา',\n",
       " 'ที่',\n",
       " 'ศึกษา',\n",
       " 'เกี่ยวกับ',\n",
       " 'องค์ประกอบ',\n",
       " 'ของ',\n",
       " 'ดาวเคราะห์']"
      ]
     },
     "execution_count": 2,
     "metadata": {},
     "output_type": "execute_result"
    }
   ],
   "source": [
    "text='วิทยาศาสตร์ดาวเคราะห์เป็นสาขาวิชาที่ศึกษาเกี่ยวกับองค์ประกอบของดาวเคราะห์'\n",
    "a = word_tokenize(text,engine='newmm')\n",
    "a"
   ]
  },
  {
   "cell_type": "markdown",
   "metadata": {},
   "source": [
    "### Data Loader"
   ]
  },
  {
   "cell_type": "code",
   "execution_count": 9,
   "metadata": {},
   "outputs": [],
   "source": [
    "# trn_texts = []\n",
    "# val_texts = []\n",
    "# for trn_file in trn_files:\n",
    "#     with open(f'{TRN_PATH}{trn_file}','r') as f:\n",
    "#         for line in f.readlines():\n",
    "#             trn_texts.append(line)\n",
    "#     f.close()\n",
    "# for val_file in val_files:\n",
    "#     with open(f'{VAL_PATH}{val_file}','r') as f:\n",
    "#         for line in f.readlines():\n",
    "#             val_texts.append(line)\n",
    "#     f.close()\n",
    "    \n",
    "# df_trn = pd.DataFrame({'text':trn_texts, 'labels':[0]*len(trn_texts)})\n",
    "# df_val = pd.DataFrame({'text':val_texts, 'labels':[0]*len(val_texts)})\n",
    "\n",
    "# df_trn.to_csv(f'{DATA_PATH}train.csv', header=False, index=False)\n",
    "# df_val.to_csv(f'{DATA_PATH}valid.csv', header=False, index=False)"
   ]
  },
  {
   "cell_type": "code",
   "execution_count": 3,
   "metadata": {},
   "outputs": [],
   "source": [
    "df_trn = pd.read_csv(f'{DATA_PATH}train.csv',header=None,chunksize=30000)\n",
    "df_val = pd.read_csv(f'{DATA_PATH}valid.csv',header=None,chunksize=30000)"
   ]
  },
  {
   "cell_type": "code",
   "execution_count": 13,
   "metadata": {},
   "outputs": [],
   "source": [
    "# tok_trn, trn_labels = get_all(df_trn)\n",
    "# tok_val, val_labels = get_all(df_val)\n",
    "# np.save(f'{MODEL_PATH}tok_trn.npy', tok_trn)\n",
    "# np.save(f'{MODEL_PATH}tok_val.npy', tok_val)"
   ]
  },
  {
   "cell_type": "code",
   "execution_count": 2,
   "metadata": {},
   "outputs": [],
   "source": [
    "tok_trn = np.load(f'{MODEL_PATH}tok_trn.npy')\n",
    "tok_val = np.load(f'{MODEL_PATH}tok_val.npy')"
   ]
  },
  {
   "cell_type": "code",
   "execution_count": 5,
   "metadata": {},
   "outputs": [
    {
     "data": {
      "text/plain": [
       "array([list(['xbos', 'แอร์', 'เกียร์', ' ', 'ขา', 'คู่', 'ทะลุ', 'ฟ้า']),\n",
       "       list(['xbos', 'แอร์', 'เกียร์', ' ', 'ขา', 'คู่', 'ทะลุ', 'ฟ้า', ' ', 'เป็น', 'การ์ตูน', 'ญี่ปุ่น', 'เรื่อง', 'และ', 'ภาพ', 'โดย', 'อิโตะ', ' ', 'โอ', 'งุเระ', ' ', 'หรือ', 'ที่', 'รู้จัก', 'กัน', 'ใน', 'นามปากกา', 'ว่า', ' ', 'Oh', '!', ' ', 'great', ' ', 'เรื่องราว', 'เกี่ยวกับ', 'การแข่งขัน', 'แอร์', 'เกียร์', ' ', 'ซึ่ง', 'คล้าย', ' ', 'ๆ', ' ', 'กับ', 'สเก็ต', ' ', 'แต่', 'เป็น', 'รองเท้า', 'สเก็ต', 'ที่', 'ติด', 'มอเตอร์', 'แรง', 'สูง', ' ', 'ทำให้', 'มี', 'ความเร็ว', 'สูง', ' ', 'และ', 'ทำให้', 'ไต่', 'กำแพง', 'ได้', ' ', 'ซึ่ง', 'ท่า', 'ทางการ', 'เล่น', 'ต่างๆ', ' ', 'จะ', 'เรียก', 'ว่า', ' ', '\"', 'ทริค', '\"', ' ', 'ลิขสิทธิ์', 'ใน', 'ประเทศไทย', 'เป็น', 'ของ', 'สำนักพิมพ์', 'วิบูลย์', 'กิจ', ' ', 'ปัจจุบัน', 'ตีพิมพ์', 'ลง', 'นิตยสาร', ' ', 'KCWeekly', ' ', 'ส่วน', 'ฉบับ', 'อะ', 'นิ', 'เมะ', ' ', 'ได้', 'ลิขสิทธิ์', 'จำหน่าย', 'โดย', ' ', 'TIGA'])],\n",
       "      dtype=object)"
      ]
     },
     "execution_count": 5,
     "metadata": {},
     "output_type": "execute_result"
    }
   ],
   "source": [
    "tok_trn[:2]"
   ]
  },
  {
   "cell_type": "code",
   "execution_count": 7,
   "metadata": {},
   "outputs": [
    {
     "data": {
      "text/html": [
       "<div>\n",
       "<style scoped>\n",
       "    .dataframe tbody tr th:only-of-type {\n",
       "        vertical-align: middle;\n",
       "    }\n",
       "\n",
       "    .dataframe tbody tr th {\n",
       "        vertical-align: top;\n",
       "    }\n",
       "\n",
       "    .dataframe thead th {\n",
       "        text-align: right;\n",
       "    }\n",
       "</style>\n",
       "<table border=\"1\" class=\"dataframe\">\n",
       "  <thead>\n",
       "    <tr style=\"text-align: right;\">\n",
       "      <th></th>\n",
       "      <th>0</th>\n",
       "    </tr>\n",
       "  </thead>\n",
       "  <tbody>\n",
       "    <tr>\n",
       "      <th></th>\n",
       "      <td>7818547</td>\n",
       "    </tr>\n",
       "    <tr>\n",
       "      <th>ใน</th>\n",
       "      <td>741048</td>\n",
       "    </tr>\n",
       "    <tr>\n",
       "      <th>ที่</th>\n",
       "      <td>655645</td>\n",
       "    </tr>\n",
       "    <tr>\n",
       "      <th>และ</th>\n",
       "      <td>611958</td>\n",
       "    </tr>\n",
       "    <tr>\n",
       "      <th>xbos</th>\n",
       "      <td>607524</td>\n",
       "    </tr>\n",
       "    <tr>\n",
       "      <th>เป็น</th>\n",
       "      <td>527149</td>\n",
       "    </tr>\n",
       "    <tr>\n",
       "      <th>ของ</th>\n",
       "      <td>521314</td>\n",
       "    </tr>\n",
       "    <tr>\n",
       "      <th>มี</th>\n",
       "      <td>379121</td>\n",
       "    </tr>\n",
       "    <tr>\n",
       "      <th>ได้</th>\n",
       "      <td>327135</td>\n",
       "    </tr>\n",
       "    <tr>\n",
       "      <th>\"</th>\n",
       "      <td>311511</td>\n",
       "    </tr>\n",
       "  </tbody>\n",
       "</table>\n",
       "</div>"
      ],
      "text/plain": [
       "            0\n",
       "      7818547\n",
       "ใน     741048\n",
       "ที่    655645\n",
       "และ    611958\n",
       "xbos   607524\n",
       "เป็น   527149\n",
       "ของ    521314\n",
       "มี     379121\n",
       "ได้    327135\n",
       "\"      311511"
      ]
     },
     "execution_count": 7,
     "metadata": {},
     "output_type": "execute_result"
    }
   ],
   "source": [
    "freq = Counter(p for o in tok_trn for p in o)\n",
    "freqs = pd.DataFrame.from_dict(freq,orient='index')\n",
    "freqs.sort_values(0,ascending=False).head(10)"
   ]
  },
  {
   "cell_type": "code",
   "execution_count": 11,
   "metadata": {},
   "outputs": [
    {
     "data": {
      "text/plain": [
       "42130668"
      ]
     },
     "execution_count": 11,
     "metadata": {},
     "output_type": "execute_result"
    }
   ],
   "source": [
    "len([p for o in tok_trn for p in o])"
   ]
  },
  {
   "cell_type": "code",
   "execution_count": 9,
   "metadata": {},
   "outputs": [],
   "source": [
    "cnt = []\n",
    "for i in range(49):\n",
    "    row_cnt = freqs[freqs[0]>=i+1].shape[0]\n",
    "    cnt.append(row_cnt)"
   ]
  },
  {
   "cell_type": "code",
   "execution_count": 10,
   "metadata": {},
   "outputs": [
    {
     "data": {
      "text/plain": [
       "<matplotlib.lines.Line2D at 0x7f755bc56630>"
      ]
     },
     "execution_count": 10,
     "metadata": {},
     "output_type": "execute_result"
    },
    {
     "data": {
      "image/png": "[encoded data removed]",
      "text/plain": [
       "<Figure size 432x288 with 1 Axes>"
      ]
     },
     "metadata": {},
     "output_type": "display_data"
    }
   ],
   "source": [
    "plt.plot(cnt)\n",
    "plt.axvline(x=2,color='red', linestyle='--')"
   ]
  },
  {
   "cell_type": "markdown",
   "metadata": {},
   "source": [
    "## Language Modeling\n",
    "\n",
    "We trained the language model based on 625,040 texts and validated on 145,347 texts from Thai Wikipedia using various tricks detailed in the [ULMFit paper](https://arxiv.org/abs/1801.06146). The validation perplexity is 34.87803. "
   ]
  },
  {
   "cell_type": "code",
   "execution_count": 11,
   "metadata": {},
   "outputs": [],
   "source": [
    "max_vocab = 60000\n",
    "min_freq = 2"
   ]
  },
  {
   "cell_type": "code",
   "execution_count": 20,
   "metadata": {},
   "outputs": [],
   "source": [
    "# itos = [o for o,c in freq.most_common(max_vocab) if c>min_freq]\n",
    "# itos.insert(0, '_pad_')\n",
    "# itos.insert(0, '_unk_')\n",
    "# stoi = collections.defaultdict(lambda:0, {v:k for k,v in enumerate(itos)})"
   ]
  },
  {
   "cell_type": "code",
   "execution_count": 21,
   "metadata": {},
   "outputs": [],
   "source": [
    "# trn_lm = np.array([[stoi[o] for o in p] for p in tok_trn])\n",
    "# val_lm = np.array([[stoi[o] for o in p] for p in tok_val])"
   ]
  },
  {
   "cell_type": "code",
   "execution_count": 22,
   "metadata": {},
   "outputs": [],
   "source": [
    "# np.save(f'{MODEL_PATH}trn_lm.npy', trn_lm)\n",
    "# np.save(f'{MODEL_PATH}val_lm.npy', val_lm)\n",
    "# pickle.dump(itos, open(f'{MODEL_PATH}itos.pkl', 'wb'))"
   ]
  },
  {
   "cell_type": "code",
   "execution_count": 7,
   "metadata": {},
   "outputs": [],
   "source": [
    "trn_lm = np.load(f'{MODEL_PATH}trn_lm.npy')\n",
    "val_lm = np.load(f'{MODEL_PATH}val_lm.npy')\n",
    "itos = pickle.load(open(f'{MODEL_PATH}itos.pkl', 'rb'))"
   ]
  },
  {
   "cell_type": "code",
   "execution_count": 8,
   "metadata": {},
   "outputs": [
    {
     "data": {
      "text/plain": [
       "(625040, 145347, 60002)"
      ]
     },
     "execution_count": 8,
     "metadata": {},
     "output_type": "execute_result"
    }
   ],
   "source": [
    "len(trn_lm), len(val_lm), len(itos)"
   ]
  },
  {
   "cell_type": "code",
   "execution_count": 10,
   "metadata": {},
   "outputs": [
    {
     "data": {
      "text/plain": [
       "array([list([6, 1760, 3290, 2, 1371, 492, 4032, 908]),\n",
       "       list([6, 1760, 3290, 2, 1371, 492, 4032, 908, 2, 7, 895, 276, 77, 5, 289, 15, 25661, 2, 144, 47545, 2, 35, 4, 794, 70, 3, 5826, 20, 2, 18918, 1098, 2, 18414, 2, 860, 266, 195, 1760, 3290, 2, 24, 505, 2, 54, 2, 16, 8981, 2, 41, 7, 4389, 8981, 4, 688, 3592, 1042, 253, 2, 68, 9, 1325, 253, 2, 5, 68, 7149, 1966, 10, 2, 24, 683, 1703, 159, 259, 2, 18, 110, 20, 2, 11, 11676, 11, 2, 2666, 3, 203, 7, 8, 1592, 7558, 1377, 2, 100, 1222, 104, 932, 2, 0, 2, 96, 333, 356, 143, 1310, 2, 10, 2666, 554, 15, 2, 25093])],\n",
       "      dtype=object)"
      ]
     },
     "execution_count": 10,
     "metadata": {},
     "output_type": "execute_result"
    }
   ],
   "source": [
    "trn_lm[:2]"
   ]
  },
  {
   "cell_type": "code",
   "execution_count": 14,
   "metadata": {},
   "outputs": [],
   "source": [
    "em_sz,nh,nl = 300,1150,3\n",
    "wd=1e-7\n",
    "bptt=70\n",
    "bs=64\n",
    "opt_fn = partial(optim.Adam, betas=(0.8, 0.99))\n",
    "vocab_size = len(itos)\n",
    "weight_factor = 0.7\n",
    "drops = np.array([0.25, 0.1, 0.2, 0.02, 0.15])*weight_factor"
   ]
  },
  {
   "cell_type": "code",
   "execution_count": 15,
   "metadata": {},
   "outputs": [],
   "source": [
    "trn_dl = LanguageModelLoader(np.concatenate(trn_lm), bs, bptt)\n",
    "val_dl = LanguageModelLoader(np.concatenate(val_lm), bs, bptt)\n",
    "md = LanguageModelData(path=DATA_PATH, pad_idx=1, n_tok=vocab_size, \n",
    "                       trn_dl=trn_dl, val_dl=val_dl, bs=bs, bptt=bptt)"
   ]
  },
  {
   "cell_type": "code",
   "execution_count": 16,
   "metadata": {},
   "outputs": [],
   "source": [
    "learner= md.get_model(opt_fn, em_sz, nh, nl, \n",
    "    dropouti=drops[0], dropout=drops[1], wdrop=drops[2], dropoute=drops[3], dropouth=drops[4])\n",
    "learner.metrics = [accuracy]"
   ]
  },
  {
   "cell_type": "code",
   "execution_count": 17,
   "metadata": {},
   "outputs": [],
   "source": [
    "lr=1e-3"
   ]
  },
  {
   "cell_type": "code",
   "execution_count": 29,
   "metadata": {},
   "outputs": [],
   "source": [
    "# learner.lr_find(start_lr=lr/10, end_lr=lr*10, linear=True)\n",
    "# learner.sched.plot()"
   ]
  },
  {
   "cell_type": "code",
   "execution_count": null,
   "metadata": {},
   "outputs": [],
   "source": [
    "# learner.fit(lr, n_cycle=1, wds=wd, use_clr=(20,10), cycle_len=15)\n",
    "# learner.save('thwiki_model')\n",
    "# learner.save_encoder('thwiki_enc')"
   ]
  },
  {
   "cell_type": "raw",
   "metadata": {},
   "source": [
    "Iter   Trn Loss   Val Loss   Accuracy\n",
    "0      4.560638   4.528333   0.302139\n",
    "1      4.113183   4.054488   0.338904\n",
    "2      3.968273   3.896828   0.354121\n",
    "3      3.913681   3.823921   0.361652\n",
    "4      3.869313   3.772311   0.367248\n",
    "5      3.819471   3.738627   0.371047\n",
    "6      3.772264   3.713189   0.373609\n",
    "7      3.751502   3.691305   0.376454\n",
    "8      3.768727   3.66955    0.379037\n",
    "9      3.718833   3.65377    0.381029\n",
    "10     3.73448    3.637635   0.38292\n",
    "11     3.723875   3.622953   0.384741\n",
    "12     3.666837   3.612841   0.386149\n",
    "13     3.703704   3.599045   0.387594\n",
    "14     3.706622   3.590135   0.388777"
   ]
  },
  {
   "cell_type": "code",
   "execution_count": null,
   "metadata": {},
   "outputs": [],
   "source": [
    "# learner.load('thwiki_model')\n",
    "# learner.fit(lr, n_cycle=1, wds=wd, use_clr=(20,10), cycle_len=10)\n",
    "# learner.save('thwiki_model2')\n",
    "# learner.save_encoder('thwiki_enc2')"
   ]
  },
  {
   "cell_type": "raw",
   "metadata": {},
   "source": [
    "Iter   Trn Loss   Val Loss   Accuracy\n",
    "0      3.762221   3.694619   0.376484\n",
    "1      3.765168   3.684222   0.377306\n",
    "2      3.715025   3.666253   0.37955\n",
    "3      3.714472   3.64408    0.38189\n",
    "4      3.692252   3.62648    0.384151\n",
    "5      3.672782   3.610048   0.386137\n",
    "6      3.710533   3.591495   0.388142\n",
    "7      3.637991   3.578346   0.390341\n",
    "8      3.656873   3.562409   0.392009\n",
    "9      3.656366   3.551857   0.393544"
   ]
  },
  {
   "cell_type": "markdown",
   "metadata": {},
   "source": [
    "### Eyeballing Test\n",
    "We perform eyeballing test by having the model \"fill in the blanks\"."
   ]
  },
  {
   "cell_type": "code",
   "execution_count": 110,
   "metadata": {
    "ExecuteTime": {
     "end_time": "2018-01-24T17:09:04.381055Z",
     "start_time": "2018-01-24T17:05:17.677117Z"
    }
   },
   "outputs": [
    {
     "data": {
      "text/plain": [
       "SequentialRNN(\n",
       "  (0): RNN_Encoder(\n",
       "    (encoder): Embedding(60002, 300, padding_idx=1)\n",
       "    (encoder_with_dropout): EmbeddingDropout(\n",
       "      (embed): Embedding(60002, 300, padding_idx=1)\n",
       "    )\n",
       "    (rnns): ModuleList(\n",
       "      (0): WeightDrop(\n",
       "        (module): LSTM(300, 1150)\n",
       "      )\n",
       "      (1): WeightDrop(\n",
       "        (module): LSTM(1150, 1150)\n",
       "      )\n",
       "      (2): WeightDrop(\n",
       "        (module): LSTM(1150, 300)\n",
       "      )\n",
       "    )\n",
       "    (dropouti): LockedDropout(\n",
       "    )\n",
       "    (dropouths): ModuleList(\n",
       "      (0): LockedDropout(\n",
       "      )\n",
       "      (1): LockedDropout(\n",
       "      )\n",
       "      (2): LockedDropout(\n",
       "      )\n",
       "    )\n",
       "  )\n",
       "  (1): LinearDecoder(\n",
       "    (decoder): Linear(in_features=300, out_features=60002, bias=False)\n",
       "    (dropout): LockedDropout(\n",
       "    )\n",
       "  )\n",
       ")"
      ]
     },
     "execution_count": 110,
     "metadata": {},
     "output_type": "execute_result"
    }
   ],
   "source": [
    "learner.load('thwiki_model2')\n",
    "m = learner.model\n",
    "m[0].bs=1\n",
    "m.eval()"
   ]
  },
  {
   "cell_type": "code",
   "execution_count": 144,
   "metadata": {},
   "outputs": [],
   "source": [
    "itos = pickle.load(open(f'{MODEL_PATH}itos.pkl', 'rb'))\n",
    "stoi = collections.defaultdict(lambda:0, {v:k for k,v in enumerate(itos)})"
   ]
  },
  {
   "cell_type": "code",
   "execution_count": 112,
   "metadata": {},
   "outputs": [],
   "source": [
    "def gen_text(ss,topk):\n",
    "    s = word_tokenize(ss,engine='newmm')\n",
    "    t = LongTensor([stoi[i] for i in s]).view(-1,1).cuda()\n",
    "    t = Variable(t,volatile=False)\n",
    "    m.reset()\n",
    "    pred,*_ = m(t)\n",
    "    pred_i = torch.topk(pred[-1], topk)[1]\n",
    "    return [itos[o] for o in to_np(pred_i)]\n",
    "\n",
    "def gen_sentences(ss,nb_words):\n",
    "    result = []\n",
    "    s = word_tokenize(ss,engine='newmm')\n",
    "    t = LongTensor([stoi[i] for i in s]).view(-1,1).cuda()\n",
    "    t = Variable(t,volatile=False)\n",
    "    m.reset()\n",
    "    pred,*_ = m(t)\n",
    "    for i in range(nb_words):\n",
    "        pred_i = pred[-1].topk(2)[1]\n",
    "        pred_i = pred_i[1] if pred_i.data[0] < 2 else pred_i[0]\n",
    "        result.append(itos[pred_i.data[0]])\n",
    "        pred,*_ = m(pred_i[0].unsqueeze(0))\n",
    "    return(result)"
   ]
  },
  {
   "cell_type": "code",
   "execution_count": 113,
   "metadata": {},
   "outputs": [
    {
     "data": {
      "text/plain": [
       "['แดง', ' ', 'ขาว', 'สี', 'เกราะ', 'ดำ', 'ทอง', 'ของ', 'เหลือง', '_unk_']"
      ]
     },
     "execution_count": 113,
     "metadata": {},
     "output_type": "execute_result"
    }
   ],
   "source": [
    "ss = 'สวัสดีครับพี่น้องเสื้อ'\n",
    "gen_text(ss,10)"
   ]
  },
  {
   "cell_type": "code",
   "execution_count": 118,
   "metadata": {},
   "outputs": [
    {
     "data": {
      "text/plain": [
       "' \"The Last Man\" (พ.ศ. 2543) กำกับโดย จอห์น สมิธ นำแสดงโดย แอนโทนี คริสเตนเซน, คริสโตเฟอร์ โรส และ เจสัน สมิธ ภาพยนตร์เรื่องนี้เป็นภาพยนตร์ภาคต่อจาก \"The'"
      ]
     },
     "execution_count": 118,
     "metadata": {},
     "output_type": "execute_result"
    }
   ],
   "source": [
    "ss = 'ภาพยนตร์สั้นเรื่องที่สอง'\n",
    "''.join(gen_sentences(ss,70))"
   ]
  },
  {
   "cell_type": "markdown",
   "metadata": {},
   "source": [
    "## Embeddings\n",
    "\n",
    "We extract the embedding layer of the encoder to be used in the same manner as `word2vec`. We can also create sentence vector by summing or averaging the vectors. For more details about `word2vec` use cases, see`word2vec_examples.ipynb`."
   ]
  },
  {
   "cell_type": "markdown",
   "metadata": {},
   "source": [
    "### Extract"
   ]
  },
  {
   "cell_type": "code",
   "execution_count": 119,
   "metadata": {
    "ExecuteTime": {
     "end_time": "2018-01-24T17:14:19.257675Z",
     "start_time": "2018-01-24T17:14:19.219043Z"
    }
   },
   "outputs": [],
   "source": [
    "emb_weights = list(learner.model.named_parameters())[0][1]\n",
    "emb_np = to_np(emb_weights.data)"
   ]
  },
  {
   "cell_type": "code",
   "execution_count": 149,
   "metadata": {
    "ExecuteTime": {
     "end_time": "2018-01-25T03:55:01.593405Z",
     "start_time": "2018-01-25T03:55:01.533652Z"
    }
   },
   "outputs": [
    {
     "data": {
      "text/html": [
       "<div>\n",
       "<style scoped>\n",
       "    .dataframe tbody tr th:only-of-type {\n",
       "        vertical-align: middle;\n",
       "    }\n",
       "\n",
       "    .dataframe tbody tr th {\n",
       "        vertical-align: top;\n",
       "    }\n",
       "\n",
       "    .dataframe thead th {\n",
       "        text-align: right;\n",
       "    }\n",
       "</style>\n",
       "<table border=\"1\" class=\"dataframe\">\n",
       "  <thead>\n",
       "    <tr style=\"text-align: right;\">\n",
       "      <th></th>\n",
       "      <th>0</th>\n",
       "      <th>1</th>\n",
       "      <th>2</th>\n",
       "      <th>3</th>\n",
       "      <th>4</th>\n",
       "      <th>5</th>\n",
       "      <th>6</th>\n",
       "      <th>7</th>\n",
       "      <th>8</th>\n",
       "      <th>9</th>\n",
       "      <th>...</th>\n",
       "      <th>290</th>\n",
       "      <th>291</th>\n",
       "      <th>292</th>\n",
       "      <th>293</th>\n",
       "      <th>294</th>\n",
       "      <th>295</th>\n",
       "      <th>296</th>\n",
       "      <th>297</th>\n",
       "      <th>298</th>\n",
       "      <th>299</th>\n",
       "    </tr>\n",
       "  </thead>\n",
       "  <tbody>\n",
       "    <tr>\n",
       "      <th>_unk_</th>\n",
       "      <td>0.022519</td>\n",
       "      <td>0.817801</td>\n",
       "      <td>-0.324060</td>\n",
       "      <td>-0.170236</td>\n",
       "      <td>0.231729</td>\n",
       "      <td>0.097284</td>\n",
       "      <td>0.125790</td>\n",
       "      <td>0.044683</td>\n",
       "      <td>-0.061063</td>\n",
       "      <td>-0.070302</td>\n",
       "      <td>...</td>\n",
       "      <td>0.004498</td>\n",
       "      <td>-0.025874</td>\n",
       "      <td>-0.116995</td>\n",
       "      <td>1.692069</td>\n",
       "      <td>-0.439007</td>\n",
       "      <td>0.425014</td>\n",
       "      <td>-0.879703</td>\n",
       "      <td>-0.029526</td>\n",
       "      <td>0.251029</td>\n",
       "      <td>1.320404</td>\n",
       "    </tr>\n",
       "    <tr>\n",
       "      <th>_pad_</th>\n",
       "      <td>-0.935772</td>\n",
       "      <td>0.575914</td>\n",
       "      <td>0.542768</td>\n",
       "      <td>-0.442513</td>\n",
       "      <td>0.397504</td>\n",
       "      <td>0.188272</td>\n",
       "      <td>1.460786</td>\n",
       "      <td>0.206544</td>\n",
       "      <td>-0.301854</td>\n",
       "      <td>0.274186</td>\n",
       "      <td>...</td>\n",
       "      <td>-0.663580</td>\n",
       "      <td>-0.117200</td>\n",
       "      <td>-0.363211</td>\n",
       "      <td>0.182255</td>\n",
       "      <td>-0.084243</td>\n",
       "      <td>0.582545</td>\n",
       "      <td>0.129705</td>\n",
       "      <td>-0.353055</td>\n",
       "      <td>0.155627</td>\n",
       "      <td>0.975531</td>\n",
       "    </tr>\n",
       "    <tr>\n",
       "      <th>_space_</th>\n",
       "      <td>0.107216</td>\n",
       "      <td>0.388036</td>\n",
       "      <td>-0.169568</td>\n",
       "      <td>-0.246409</td>\n",
       "      <td>0.279571</td>\n",
       "      <td>0.005334</td>\n",
       "      <td>-0.061691</td>\n",
       "      <td>-0.021584</td>\n",
       "      <td>0.035565</td>\n",
       "      <td>-0.025104</td>\n",
       "      <td>...</td>\n",
       "      <td>0.230360</td>\n",
       "      <td>-0.099156</td>\n",
       "      <td>-0.095395</td>\n",
       "      <td>1.400821</td>\n",
       "      <td>-0.109612</td>\n",
       "      <td>0.296819</td>\n",
       "      <td>-0.309976</td>\n",
       "      <td>0.025853</td>\n",
       "      <td>0.024742</td>\n",
       "      <td>1.873252</td>\n",
       "    </tr>\n",
       "    <tr>\n",
       "      <th>ใน</th>\n",
       "      <td>0.098450</td>\n",
       "      <td>1.801897</td>\n",
       "      <td>-0.096933</td>\n",
       "      <td>-0.666261</td>\n",
       "      <td>0.625247</td>\n",
       "      <td>0.061148</td>\n",
       "      <td>-0.102258</td>\n",
       "      <td>-0.100427</td>\n",
       "      <td>0.028735</td>\n",
       "      <td>-0.026688</td>\n",
       "      <td>...</td>\n",
       "      <td>-0.335867</td>\n",
       "      <td>0.006813</td>\n",
       "      <td>-0.016165</td>\n",
       "      <td>1.141225</td>\n",
       "      <td>-0.192724</td>\n",
       "      <td>0.442762</td>\n",
       "      <td>0.045070</td>\n",
       "      <td>-0.102296</td>\n",
       "      <td>-0.127455</td>\n",
       "      <td>1.878882</td>\n",
       "    </tr>\n",
       "    <tr>\n",
       "      <th>ที่</th>\n",
       "      <td>0.138746</td>\n",
       "      <td>0.720153</td>\n",
       "      <td>-0.041768</td>\n",
       "      <td>-0.306863</td>\n",
       "      <td>-0.079650</td>\n",
       "      <td>0.106182</td>\n",
       "      <td>-0.114046</td>\n",
       "      <td>-0.165971</td>\n",
       "      <td>0.139669</td>\n",
       "      <td>-0.061699</td>\n",
       "      <td>...</td>\n",
       "      <td>-0.165890</td>\n",
       "      <td>-0.132133</td>\n",
       "      <td>0.092943</td>\n",
       "      <td>1.073260</td>\n",
       "      <td>-0.062712</td>\n",
       "      <td>0.388557</td>\n",
       "      <td>0.484343</td>\n",
       "      <td>-0.085097</td>\n",
       "      <td>-0.149649</td>\n",
       "      <td>2.104188</td>\n",
       "    </tr>\n",
       "    <tr>\n",
       "      <th>และ</th>\n",
       "      <td>0.062545</td>\n",
       "      <td>1.609636</td>\n",
       "      <td>-0.078940</td>\n",
       "      <td>-0.740875</td>\n",
       "      <td>-0.164466</td>\n",
       "      <td>0.005367</td>\n",
       "      <td>-0.040413</td>\n",
       "      <td>-0.067452</td>\n",
       "      <td>-0.002970</td>\n",
       "      <td>-0.043703</td>\n",
       "      <td>...</td>\n",
       "      <td>-0.107787</td>\n",
       "      <td>-0.107519</td>\n",
       "      <td>-0.125328</td>\n",
       "      <td>1.260180</td>\n",
       "      <td>-0.160370</td>\n",
       "      <td>0.456843</td>\n",
       "      <td>-0.245348</td>\n",
       "      <td>0.048588</td>\n",
       "      <td>-0.156856</td>\n",
       "      <td>1.937279</td>\n",
       "    </tr>\n",
       "    <tr>\n",
       "      <th>xbos</th>\n",
       "      <td>-0.010544</td>\n",
       "      <td>0.609401</td>\n",
       "      <td>-0.110350</td>\n",
       "      <td>-0.610032</td>\n",
       "      <td>1.367089</td>\n",
       "      <td>0.004454</td>\n",
       "      <td>-0.003086</td>\n",
       "      <td>0.156882</td>\n",
       "      <td>0.068096</td>\n",
       "      <td>0.016191</td>\n",
       "      <td>...</td>\n",
       "      <td>-0.172920</td>\n",
       "      <td>0.017581</td>\n",
       "      <td>-0.233785</td>\n",
       "      <td>1.423609</td>\n",
       "      <td>-0.091579</td>\n",
       "      <td>0.309428</td>\n",
       "      <td>0.109094</td>\n",
       "      <td>-0.026183</td>\n",
       "      <td>-0.019605</td>\n",
       "      <td>2.005768</td>\n",
       "    </tr>\n",
       "    <tr>\n",
       "      <th>เป็น</th>\n",
       "      <td>0.126704</td>\n",
       "      <td>1.270166</td>\n",
       "      <td>0.003896</td>\n",
       "      <td>-0.533626</td>\n",
       "      <td>-0.918715</td>\n",
       "      <td>0.029843</td>\n",
       "      <td>-0.099567</td>\n",
       "      <td>0.225911</td>\n",
       "      <td>0.060536</td>\n",
       "      <td>-0.164903</td>\n",
       "      <td>...</td>\n",
       "      <td>-0.262750</td>\n",
       "      <td>-0.007993</td>\n",
       "      <td>0.161668</td>\n",
       "      <td>1.260635</td>\n",
       "      <td>-0.269569</td>\n",
       "      <td>1.073322</td>\n",
       "      <td>-0.117716</td>\n",
       "      <td>0.107125</td>\n",
       "      <td>0.108371</td>\n",
       "      <td>2.205658</td>\n",
       "    </tr>\n",
       "    <tr>\n",
       "      <th>ของ</th>\n",
       "      <td>0.150639</td>\n",
       "      <td>0.681365</td>\n",
       "      <td>0.088733</td>\n",
       "      <td>-0.614067</td>\n",
       "      <td>0.506571</td>\n",
       "      <td>0.010067</td>\n",
       "      <td>-0.052390</td>\n",
       "      <td>-0.084041</td>\n",
       "      <td>0.010691</td>\n",
       "      <td>0.078425</td>\n",
       "      <td>...</td>\n",
       "      <td>-0.110207</td>\n",
       "      <td>-0.002877</td>\n",
       "      <td>-0.023250</td>\n",
       "      <td>1.043838</td>\n",
       "      <td>-0.114033</td>\n",
       "      <td>0.374470</td>\n",
       "      <td>0.537663</td>\n",
       "      <td>0.134803</td>\n",
       "      <td>-0.016123</td>\n",
       "      <td>2.095403</td>\n",
       "    </tr>\n",
       "    <tr>\n",
       "      <th>มี</th>\n",
       "      <td>0.033381</td>\n",
       "      <td>1.765146</td>\n",
       "      <td>-0.316349</td>\n",
       "      <td>-1.632336</td>\n",
       "      <td>0.164008</td>\n",
       "      <td>-0.002479</td>\n",
       "      <td>-0.048369</td>\n",
       "      <td>0.025955</td>\n",
       "      <td>0.270546</td>\n",
       "      <td>-0.155646</td>\n",
       "      <td>...</td>\n",
       "      <td>0.087867</td>\n",
       "      <td>-0.092234</td>\n",
       "      <td>0.057183</td>\n",
       "      <td>1.299206</td>\n",
       "      <td>-0.223939</td>\n",
       "      <td>0.557932</td>\n",
       "      <td>0.057410</td>\n",
       "      <td>0.173193</td>\n",
       "      <td>0.191525</td>\n",
       "      <td>1.855594</td>\n",
       "    </tr>\n",
       "  </tbody>\n",
       "</table>\n",
       "<p>10 rows × 300 columns</p>\n",
       "</div>"
      ],
      "text/plain": [
       "              0         1         2         3         4         5         6    \\\n",
       "_unk_    0.022519  0.817801 -0.324060 -0.170236  0.231729  0.097284  0.125790   \n",
       "_pad_   -0.935772  0.575914  0.542768 -0.442513  0.397504  0.188272  1.460786   \n",
       "_space_  0.107216  0.388036 -0.169568 -0.246409  0.279571  0.005334 -0.061691   \n",
       "ใน       0.098450  1.801897 -0.096933 -0.666261  0.625247  0.061148 -0.102258   \n",
       "ที่      0.138746  0.720153 -0.041768 -0.306863 -0.079650  0.106182 -0.114046   \n",
       "และ      0.062545  1.609636 -0.078940 -0.740875 -0.164466  0.005367 -0.040413   \n",
       "xbos    -0.010544  0.609401 -0.110350 -0.610032  1.367089  0.004454 -0.003086   \n",
       "เป็น     0.126704  1.270166  0.003896 -0.533626 -0.918715  0.029843 -0.099567   \n",
       "ของ      0.150639  0.681365  0.088733 -0.614067  0.506571  0.010067 -0.052390   \n",
       "มี       0.033381  1.765146 -0.316349 -1.632336  0.164008 -0.002479 -0.048369   \n",
       "\n",
       "              7         8         9      ...          290       291       292  \\\n",
       "_unk_    0.044683 -0.061063 -0.070302    ...     0.004498 -0.025874 -0.116995   \n",
       "_pad_    0.206544 -0.301854  0.274186    ...    -0.663580 -0.117200 -0.363211   \n",
       "_space_ -0.021584  0.035565 -0.025104    ...     0.230360 -0.099156 -0.095395   \n",
       "ใน      -0.100427  0.028735 -0.026688    ...    -0.335867  0.006813 -0.016165   \n",
       "ที่     -0.165971  0.139669 -0.061699    ...    -0.165890 -0.132133  0.092943   \n",
       "และ     -0.067452 -0.002970 -0.043703    ...    -0.107787 -0.107519 -0.125328   \n",
       "xbos     0.156882  0.068096  0.016191    ...    -0.172920  0.017581 -0.233785   \n",
       "เป็น     0.225911  0.060536 -0.164903    ...    -0.262750 -0.007993  0.161668   \n",
       "ของ     -0.084041  0.010691  0.078425    ...    -0.110207 -0.002877 -0.023250   \n",
       "มี       0.025955  0.270546 -0.155646    ...     0.087867 -0.092234  0.057183   \n",
       "\n",
       "              293       294       295       296       297       298       299  \n",
       "_unk_    1.692069 -0.439007  0.425014 -0.879703 -0.029526  0.251029  1.320404  \n",
       "_pad_    0.182255 -0.084243  0.582545  0.129705 -0.353055  0.155627  0.975531  \n",
       "_space_  1.400821 -0.109612  0.296819 -0.309976  0.025853  0.024742  1.873252  \n",
       "ใน       1.141225 -0.192724  0.442762  0.045070 -0.102296 -0.127455  1.878882  \n",
       "ที่      1.073260 -0.062712  0.388557  0.484343 -0.085097 -0.149649  2.104188  \n",
       "และ      1.260180 -0.160370  0.456843 -0.245348  0.048588 -0.156856  1.937279  \n",
       "xbos     1.423609 -0.091579  0.309428  0.109094 -0.026183 -0.019605  2.005768  \n",
       "เป็น     1.260635 -0.269569  1.073322 -0.117716  0.107125  0.108371  2.205658  \n",
       "ของ      1.043838 -0.114033  0.374470  0.537663  0.134803 -0.016123  2.095403  \n",
       "มี       1.299206 -0.223939  0.557932  0.057410  0.173193  0.191525  1.855594  \n",
       "\n",
       "[10 rows x 300 columns]"
      ]
     },
     "execution_count": 149,
     "metadata": {},
     "output_type": "execute_result"
    }
   ],
   "source": [
    "thai2vec = pd.DataFrame(emb_np)\n",
    "new_itos = itos\n",
    "#replace space with token\n",
    "new_itos[2] = '_space_'\n",
    "#replace space for named entities with _\n",
    "new_itos = [re.sub(' ','_',i) for i in new_itos]\n",
    "thai2vec.index = new_itos\n",
    "thai2vec.head(10)"
   ]
  },
  {
   "cell_type": "code",
   "execution_count": 153,
   "metadata": {
    "ExecuteTime": {
     "end_time": "2018-01-25T03:55:23.616554Z",
     "start_time": "2018-01-25T03:55:03.872457Z"
    }
   },
   "outputs": [
    {
     "data": {
      "text/plain": [
       "(60002, 300)"
      ]
     },
     "execution_count": 153,
     "metadata": {},
     "output_type": "execute_result"
    }
   ],
   "source": [
    "#remove lines with weird characters due to bad segmentation\n",
    "thai2save = thai2vec #.iloc[:-50,:]\n",
    "thai2save.to_csv(f'{MODEL_PATH}thai2vec.vec',sep=' ',header=False, line_terminator='\\n')\n",
    "#add NB_ROWS NB_COLS as header\n",
    "thai2save.shape"
   ]
  },
  {
   "cell_type": "code",
   "execution_count": 162,
   "metadata": {},
   "outputs": [],
   "source": [
    "from gensim.models import KeyedVectors\n",
    "model = KeyedVectors.load_word2vec_format(f'{MODEL_PATH}thai2vec.vec',binary=False,\n",
    "                                         unicode_errors = 'ignore')"
   ]
  },
  {
   "cell_type": "code",
   "execution_count": 161,
   "metadata": {},
   "outputs": [],
   "source": [
    "#model.save_word2vec_format(f'{MODEL_PATH}thai2vec.vec',f'{MODEL_PATH}thai2vec.vocab',False)\n",
    "#model.save_word2vec_format(f'{MODEL_PATH}thai2vec.bin',None,True)"
   ]
  }
 ],
 "metadata": {
  "kernelspec": {
   "display_name": "Python 3",
   "language": "python",
   "name": "python3"
  },
  "language_info": {
   "codemirror_mode": {
    "name": "ipython",
    "version": 3
   },
   "file_extension": ".py",
   "mimetype": "text/x-python",
   "name": "python",
   "nbconvert_exporter": "python",
   "pygments_lexer": "ipython3",
   "version": "3.6.5"
  }
 },
 "nbformat": 4,
 "nbformat_minor": 2
}
