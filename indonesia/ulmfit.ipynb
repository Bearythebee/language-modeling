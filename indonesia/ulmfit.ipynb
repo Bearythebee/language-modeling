{
 "cells": [
  {
   "cell_type": "code",
   "execution_count": 1,
   "metadata": {},
   "outputs": [],
   "source": [
    "%matplotlib inline\n",
    "%reload_ext autoreload\n",
    "%autoreload 2"
   ]
  },
  {
   "cell_type": "code",
   "execution_count": 2,
   "metadata": {},
   "outputs": [],
   "source": [
    "import json\n",
    "import pathlib\n",
    "import numpy as np\n",
    "import pandas as pd\n",
    "import html\n",
    "import re\n",
    "from fastai.text import *"
   ]
  },
  {
   "cell_type": "markdown",
   "metadata": {},
   "source": [
    "# Data Preparation"
   ]
  },
  {
   "cell_type": "code",
   "execution_count": 3,
   "metadata": {},
   "outputs": [],
   "source": [
    "BOS = 'xbos'  # beginning-of-sentence tag\n",
    "FLD = 'xfld'  # data field tag\n",
    "\n",
    "LANG = 'id'\n",
    "PATH_ROOT = Path(f'lmdata/{LANG}/')\n",
    "PATH_EXTRACT = Path(f'{PATH_ROOT}/extract/')\n",
    "PATH_TMP = Path(f'{PATH_ROOT}/tmp/')"
   ]
  },
  {
   "cell_type": "code",
   "execution_count": 4,
   "metadata": {},
   "outputs": [
    {
     "name": "stdout",
     "output_type": "stream",
     "text": [
      "517\n"
     ]
    },
    {
     "data": {
      "text/plain": [
       "['lmdata/id/extract/AA/wiki_00',\n",
       " 'lmdata/id/extract/AA/wiki_01',\n",
       " 'lmdata/id/extract/AA/wiki_02',\n",
       " 'lmdata/id/extract/AA/wiki_03',\n",
       " 'lmdata/id/extract/AA/wiki_04']"
      ]
     },
     "execution_count": 4,
     "metadata": {},
     "output_type": "execute_result"
    }
   ],
   "source": [
    "LANG_FILENAMES = [str(f) for f in PATH_EXTRACT.rglob(\"*/wiki_*\")]\n",
    "print(len(LANG_FILENAMES))\n",
    "LANG_FILENAMES[0:5]"
   ]
  },
  {
   "cell_type": "code",
   "execution_count": 5,
   "metadata": {},
   "outputs": [
    {
     "name": "stdout",
     "output_type": "stream",
     "text": [
      "100%|██████████| 517/517 [00:04<00:00, 108.40it/s]\n"
     ]
    }
   ],
   "source": [
    "LANG_TEXT = []\n",
    "for fn in tqdm(LANG_FILENAMES):\n",
    "    for line in open(fn, encoding='utf8'):\n",
    "        LANG_TEXT.append(json.loads(line))\n",
    "        \n",
    "LANG_TEXT = pd.DataFrame(LANG_TEXT)"
   ]
  },
  {
   "cell_type": "code",
   "execution_count": 6,
   "metadata": {},
   "outputs": [
    {
     "data": {
      "text/html": [
       "<div>\n",
       "<style scoped>\n",
       "    .dataframe tbody tr th:only-of-type {\n",
       "        vertical-align: middle;\n",
       "    }\n",
       "\n",
       "    .dataframe tbody tr th {\n",
       "        vertical-align: top;\n",
       "    }\n",
       "\n",
       "    .dataframe thead th {\n",
       "        text-align: right;\n",
       "    }\n",
       "</style>\n",
       "<table border=\"1\" class=\"dataframe\">\n",
       "  <thead>\n",
       "    <tr style=\"text-align: right;\">\n",
       "      <th></th>\n",
       "      <th>id</th>\n",
       "      <th>text</th>\n",
       "      <th>title</th>\n",
       "      <th>url</th>\n",
       "    </tr>\n",
       "  </thead>\n",
       "  <tbody>\n",
       "    <tr>\n",
       "      <th>0</th>\n",
       "      <td>1</td>\n",
       "      <td>Asam deoksiribonukleat\\n\\nAsam deoksiribonukle...</td>\n",
       "      <td>Asam deoksiribonukleat</td>\n",
       "      <td>https://id.wikipedia.org/wiki?curid=1</td>\n",
       "    </tr>\n",
       "    <tr>\n",
       "      <th>1</th>\n",
       "      <td>3</td>\n",
       "      <td>Anwar Sadat\\n\\nJenderal Besar Mohammed Anwar A...</td>\n",
       "      <td>Anwar Sadat</td>\n",
       "      <td>https://id.wikipedia.org/wiki?curid=3</td>\n",
       "    </tr>\n",
       "    <tr>\n",
       "      <th>2</th>\n",
       "      <td>4</td>\n",
       "      <td>Azhar Mansor\\n\\nDatuk Azhar Mansor adalah oran...</td>\n",
       "      <td>Azhar Mansor</td>\n",
       "      <td>https://id.wikipedia.org/wiki?curid=4</td>\n",
       "    </tr>\n",
       "    <tr>\n",
       "      <th>3</th>\n",
       "      <td>5</td>\n",
       "      <td>Arkeologi\\n\\nArkeologi atau ilmu kepurbakalaan...</td>\n",
       "      <td>Arkeologi</td>\n",
       "      <td>https://id.wikipedia.org/wiki?curid=5</td>\n",
       "    </tr>\n",
       "    <tr>\n",
       "      <th>4</th>\n",
       "      <td>6</td>\n",
       "      <td>Antropologi\\n\\nAntropologi adalah ilmu tentang...</td>\n",
       "      <td>Antropologi</td>\n",
       "      <td>https://id.wikipedia.org/wiki?curid=6</td>\n",
       "    </tr>\n",
       "  </tbody>\n",
       "</table>\n",
       "</div>"
      ],
      "text/plain": [
       "  id                                               text  \\\n",
       "0  1  Asam deoksiribonukleat\\n\\nAsam deoksiribonukle...   \n",
       "1  3  Anwar Sadat\\n\\nJenderal Besar Mohammed Anwar A...   \n",
       "2  4  Azhar Mansor\\n\\nDatuk Azhar Mansor adalah oran...   \n",
       "3  5  Arkeologi\\n\\nArkeologi atau ilmu kepurbakalaan...   \n",
       "4  6  Antropologi\\n\\nAntropologi adalah ilmu tentang...   \n",
       "\n",
       "                    title                                    url  \n",
       "0  Asam deoksiribonukleat  https://id.wikipedia.org/wiki?curid=1  \n",
       "1             Anwar Sadat  https://id.wikipedia.org/wiki?curid=3  \n",
       "2            Azhar Mansor  https://id.wikipedia.org/wiki?curid=4  \n",
       "3               Arkeologi  https://id.wikipedia.org/wiki?curid=5  \n",
       "4             Antropologi  https://id.wikipedia.org/wiki?curid=6  "
      ]
     },
     "execution_count": 6,
     "metadata": {},
     "output_type": "execute_result"
    }
   ],
   "source": [
    "LANG_TEXT.head()"
   ]
  },
  {
   "cell_type": "code",
   "execution_count": 7,
   "metadata": {},
   "outputs": [],
   "source": [
    "# Getting rid of the title name in the text field\n",
    "def split_title_from_text(text):\n",
    "    words = text.split(\"\\n\\n\")\n",
    "    if len(words) >= 2:\n",
    "        return ''.join(words[1:])\n",
    "    else:\n",
    "        return ''.join(words)\n",
    "    \n",
    "LANG_TEXT['text'] = LANG_TEXT['text'].apply(lambda x: split_title_from_text(x))"
   ]
  },
  {
   "cell_type": "code",
   "execution_count": 8,
   "metadata": {},
   "outputs": [
    {
     "data": {
      "text/html": [
       "<div>\n",
       "<style scoped>\n",
       "    .dataframe tbody tr th:only-of-type {\n",
       "        vertical-align: middle;\n",
       "    }\n",
       "\n",
       "    .dataframe tbody tr th {\n",
       "        vertical-align: top;\n",
       "    }\n",
       "\n",
       "    .dataframe thead th {\n",
       "        text-align: right;\n",
       "    }\n",
       "</style>\n",
       "<table border=\"1\" class=\"dataframe\">\n",
       "  <thead>\n",
       "    <tr style=\"text-align: right;\">\n",
       "      <th></th>\n",
       "      <th>id</th>\n",
       "      <th>text</th>\n",
       "      <th>title</th>\n",
       "      <th>url</th>\n",
       "    </tr>\n",
       "  </thead>\n",
       "  <tbody>\n",
       "    <tr>\n",
       "      <th>0</th>\n",
       "      <td>1</td>\n",
       "      <td>Asam deoksiribonukleat, lebih dikenal dengan s...</td>\n",
       "      <td>Asam deoksiribonukleat</td>\n",
       "      <td>https://id.wikipedia.org/wiki?curid=1</td>\n",
       "    </tr>\n",
       "    <tr>\n",
       "      <th>1</th>\n",
       "      <td>3</td>\n",
       "      <td>Jenderal Besar Mohammed Anwar Al Sadat (; ) ad...</td>\n",
       "      <td>Anwar Sadat</td>\n",
       "      <td>https://id.wikipedia.org/wiki?curid=3</td>\n",
       "    </tr>\n",
       "    <tr>\n",
       "      <th>2</th>\n",
       "      <td>4</td>\n",
       "      <td>Datuk Azhar Mansor adalah orang Malaysia perta...</td>\n",
       "      <td>Azhar Mansor</td>\n",
       "      <td>https://id.wikipedia.org/wiki?curid=4</td>\n",
       "    </tr>\n",
       "    <tr>\n",
       "      <th>3</th>\n",
       "      <td>5</td>\n",
       "      <td>Arkeologi atau ilmu kepurbakalaan berasal dari...</td>\n",
       "      <td>Arkeologi</td>\n",
       "      <td>https://id.wikipedia.org/wiki?curid=5</td>\n",
       "    </tr>\n",
       "    <tr>\n",
       "      <th>4</th>\n",
       "      <td>6</td>\n",
       "      <td>Antropologi adalah ilmu tentang manusia. Antro...</td>\n",
       "      <td>Antropologi</td>\n",
       "      <td>https://id.wikipedia.org/wiki?curid=6</td>\n",
       "    </tr>\n",
       "  </tbody>\n",
       "</table>\n",
       "</div>"
      ],
      "text/plain": [
       "  id                                               text  \\\n",
       "0  1  Asam deoksiribonukleat, lebih dikenal dengan s...   \n",
       "1  3  Jenderal Besar Mohammed Anwar Al Sadat (; ) ad...   \n",
       "2  4  Datuk Azhar Mansor adalah orang Malaysia perta...   \n",
       "3  5  Arkeologi atau ilmu kepurbakalaan berasal dari...   \n",
       "4  6  Antropologi adalah ilmu tentang manusia. Antro...   \n",
       "\n",
       "                    title                                    url  \n",
       "0  Asam deoksiribonukleat  https://id.wikipedia.org/wiki?curid=1  \n",
       "1             Anwar Sadat  https://id.wikipedia.org/wiki?curid=3  \n",
       "2            Azhar Mansor  https://id.wikipedia.org/wiki?curid=4  \n",
       "3               Arkeologi  https://id.wikipedia.org/wiki?curid=5  \n",
       "4             Antropologi  https://id.wikipedia.org/wiki?curid=6  "
      ]
     },
     "execution_count": 8,
     "metadata": {},
     "output_type": "execute_result"
    }
   ],
   "source": [
    "LANG_TEXT.head()"
   ]
  },
  {
   "cell_type": "markdown",
   "metadata": {},
   "source": [
    "Sorting the articles by length and keeping the first million (this is actually not necessary for indonesian wiki since it has less than 450k articles in 2018)."
   ]
  },
  {
   "cell_type": "code",
   "execution_count": 9,
   "metadata": {},
   "outputs": [],
   "source": [
    "LANG_TEXT = LANG_TEXT.assign(length = 0)\n",
    "LANG_TEXT.columns = ['id', 'text', 'title', 'url', 'length']\n",
    "LANG_TEXT = LANG_TEXT.assign(labels = 0).pipe(lambda x: x[['labels', 'text', 'length']])"
   ]
  },
  {
   "cell_type": "code",
   "execution_count": 10,
   "metadata": {},
   "outputs": [
    {
     "data": {
      "text/html": [
       "<div>\n",
       "<style scoped>\n",
       "    .dataframe tbody tr th:only-of-type {\n",
       "        vertical-align: middle;\n",
       "    }\n",
       "\n",
       "    .dataframe tbody tr th {\n",
       "        vertical-align: top;\n",
       "    }\n",
       "\n",
       "    .dataframe thead th {\n",
       "        text-align: right;\n",
       "    }\n",
       "</style>\n",
       "<table border=\"1\" class=\"dataframe\">\n",
       "  <thead>\n",
       "    <tr style=\"text-align: right;\">\n",
       "      <th></th>\n",
       "      <th>labels</th>\n",
       "      <th>text</th>\n",
       "      <th>length</th>\n",
       "    </tr>\n",
       "  </thead>\n",
       "  <tbody>\n",
       "    <tr>\n",
       "      <th>0</th>\n",
       "      <td>0</td>\n",
       "      <td>Asam deoksiribonukleat, lebih dikenal dengan s...</td>\n",
       "      <td>0</td>\n",
       "    </tr>\n",
       "    <tr>\n",
       "      <th>1</th>\n",
       "      <td>0</td>\n",
       "      <td>Jenderal Besar Mohammed Anwar Al Sadat (; ) ad...</td>\n",
       "      <td>0</td>\n",
       "    </tr>\n",
       "    <tr>\n",
       "      <th>2</th>\n",
       "      <td>0</td>\n",
       "      <td>Datuk Azhar Mansor adalah orang Malaysia perta...</td>\n",
       "      <td>0</td>\n",
       "    </tr>\n",
       "    <tr>\n",
       "      <th>3</th>\n",
       "      <td>0</td>\n",
       "      <td>Arkeologi atau ilmu kepurbakalaan berasal dari...</td>\n",
       "      <td>0</td>\n",
       "    </tr>\n",
       "    <tr>\n",
       "      <th>4</th>\n",
       "      <td>0</td>\n",
       "      <td>Antropologi adalah ilmu tentang manusia. Antro...</td>\n",
       "      <td>0</td>\n",
       "    </tr>\n",
       "  </tbody>\n",
       "</table>\n",
       "</div>"
      ],
      "text/plain": [
       "   labels                                               text  length\n",
       "0       0  Asam deoksiribonukleat, lebih dikenal dengan s...       0\n",
       "1       0  Jenderal Besar Mohammed Anwar Al Sadat (; ) ad...       0\n",
       "2       0  Datuk Azhar Mansor adalah orang Malaysia perta...       0\n",
       "3       0  Arkeologi atau ilmu kepurbakalaan berasal dari...       0\n",
       "4       0  Antropologi adalah ilmu tentang manusia. Antro...       0"
      ]
     },
     "execution_count": 10,
     "metadata": {},
     "output_type": "execute_result"
    }
   ],
   "source": [
    "LANG_TEXT.head()"
   ]
  },
  {
   "cell_type": "code",
   "execution_count": 11,
   "metadata": {},
   "outputs": [],
   "source": [
    "LANG_TEXT['length'] = LANG_TEXT['text'].str.len()\n",
    "LANG_TEXT = LANG_TEXT.sort_values(by=['length'], ascending=False)"
   ]
  },
  {
   "cell_type": "code",
   "execution_count": 12,
   "metadata": {},
   "outputs": [
    {
     "data": {
      "text/html": [
       "<div>\n",
       "<style scoped>\n",
       "    .dataframe tbody tr th:only-of-type {\n",
       "        vertical-align: middle;\n",
       "    }\n",
       "\n",
       "    .dataframe tbody tr th {\n",
       "        vertical-align: top;\n",
       "    }\n",
       "\n",
       "    .dataframe thead th {\n",
       "        text-align: right;\n",
       "    }\n",
       "</style>\n",
       "<table border=\"1\" class=\"dataframe\">\n",
       "  <thead>\n",
       "    <tr style=\"text-align: right;\">\n",
       "      <th></th>\n",
       "      <th>labels</th>\n",
       "      <th>text</th>\n",
       "      <th>length</th>\n",
       "    </tr>\n",
       "  </thead>\n",
       "  <tbody>\n",
       "    <tr>\n",
       "      <th>188441</th>\n",
       "      <td>0</td>\n",
       "      <td>Technische Hoogeschool te Bandoeng biasa disin...</td>\n",
       "      <td>159917</td>\n",
       "    </tr>\n",
       "    <tr>\n",
       "      <th>114692</th>\n",
       "      <td>0</td>\n",
       "      <td>Kemilau Cinta Kamila atau biasa disingkat KCK ...</td>\n",
       "      <td>141607</td>\n",
       "    </tr>\n",
       "    <tr>\n",
       "      <th>1370</th>\n",
       "      <td>0</td>\n",
       "      <td>Republik Chili (), kadang-kadang dieja sebagai...</td>\n",
       "      <td>133775</td>\n",
       "    </tr>\n",
       "    <tr>\n",
       "      <th>4340</th>\n",
       "      <td>0</td>\n",
       "      <td>Josef Vissarionovich Stalin () adalah pemimpin...</td>\n",
       "      <td>129387</td>\n",
       "    </tr>\n",
       "    <tr>\n",
       "      <th>5079</th>\n",
       "      <td>0</td>\n",
       "      <td>Perang Dunia I (PDI) adalah sebuah perang glob...</td>\n",
       "      <td>127190</td>\n",
       "    </tr>\n",
       "  </tbody>\n",
       "</table>\n",
       "</div>"
      ],
      "text/plain": [
       "        labels                                               text  length\n",
       "188441       0  Technische Hoogeschool te Bandoeng biasa disin...  159917\n",
       "114692       0  Kemilau Cinta Kamila atau biasa disingkat KCK ...  141607\n",
       "1370         0  Republik Chili (), kadang-kadang dieja sebagai...  133775\n",
       "4340         0  Josef Vissarionovich Stalin () adalah pemimpin...  129387\n",
       "5079         0  Perang Dunia I (PDI) adalah sebuah perang glob...  127190"
      ]
     },
     "execution_count": 12,
     "metadata": {},
     "output_type": "execute_result"
    }
   ],
   "source": [
    "LANG_TEXT.head()"
   ]
  },
  {
   "cell_type": "code",
   "execution_count": 13,
   "metadata": {},
   "outputs": [
    {
     "data": {
      "text/plain": [
       "439609"
      ]
     },
     "execution_count": 13,
     "metadata": {},
     "output_type": "execute_result"
    }
   ],
   "source": [
    "len(LANG_TEXT)"
   ]
  },
  {
   "cell_type": "code",
   "execution_count": 14,
   "metadata": {},
   "outputs": [],
   "source": [
    "LANG_TEXT.to_csv(f\"{PATH_ROOT}/wiki_{LANG}_corpus.csv\", header=False, index=False)"
   ]
  },
  {
   "cell_type": "code",
   "execution_count": 19,
   "metadata": {},
   "outputs": [],
   "source": [
    "LANG_TEXT = pd.read_csv(f\"{PATH_ROOT}/wiki_{LANG}_corpus.csv\")"
   ]
  },
  {
   "cell_type": "code",
   "execution_count": 20,
   "metadata": {},
   "outputs": [
    {
     "data": {
      "text/plain": [
       "439608"
      ]
     },
     "execution_count": 20,
     "metadata": {},
     "output_type": "execute_result"
    }
   ],
   "source": [
    "len(LANG_TEXT)"
   ]
  },
  {
   "cell_type": "code",
   "execution_count": 21,
   "metadata": {},
   "outputs": [],
   "source": [
    "LANG_TEXT.columns = ['labels', 'text', 'length']\n",
    "LANG_TEXT = LANG_TEXT[LANG_TEXT['length'] > 10]\n",
    "# LANG_TEXT = LANG_TEXT.drop(['length'], axis=1)"
   ]
  },
  {
   "cell_type": "code",
   "execution_count": 23,
   "metadata": {},
   "outputs": [
    {
     "data": {
      "text/html": [
       "<div>\n",
       "<style scoped>\n",
       "    .dataframe tbody tr th:only-of-type {\n",
       "        vertical-align: middle;\n",
       "    }\n",
       "\n",
       "    .dataframe tbody tr th {\n",
       "        vertical-align: top;\n",
       "    }\n",
       "\n",
       "    .dataframe thead th {\n",
       "        text-align: right;\n",
       "    }\n",
       "</style>\n",
       "<table border=\"1\" class=\"dataframe\">\n",
       "  <thead>\n",
       "    <tr style=\"text-align: right;\">\n",
       "      <th></th>\n",
       "      <th>labels</th>\n",
       "      <th>text</th>\n",
       "      <th>length</th>\n",
       "    </tr>\n",
       "  </thead>\n",
       "  <tbody>\n",
       "    <tr>\n",
       "      <th>0</th>\n",
       "      <td>0</td>\n",
       "      <td>Kemilau Cinta Kamila atau biasa disingkat KCK ...</td>\n",
       "      <td>141607</td>\n",
       "    </tr>\n",
       "    <tr>\n",
       "      <th>1</th>\n",
       "      <td>0</td>\n",
       "      <td>Republik Chili (), kadang-kadang dieja sebagai...</td>\n",
       "      <td>133775</td>\n",
       "    </tr>\n",
       "    <tr>\n",
       "      <th>2</th>\n",
       "      <td>0</td>\n",
       "      <td>Josef Vissarionovich Stalin () adalah pemimpin...</td>\n",
       "      <td>129387</td>\n",
       "    </tr>\n",
       "    <tr>\n",
       "      <th>3</th>\n",
       "      <td>0</td>\n",
       "      <td>Perang Dunia I (PDI) adalah sebuah perang glob...</td>\n",
       "      <td>127190</td>\n",
       "    </tr>\n",
       "    <tr>\n",
       "      <th>4</th>\n",
       "      <td>0</td>\n",
       "      <td>Sejarah dunia adalah sejarah umat manusia di s...</td>\n",
       "      <td>127135</td>\n",
       "    </tr>\n",
       "  </tbody>\n",
       "</table>\n",
       "</div>"
      ],
      "text/plain": [
       "   labels                                               text  length\n",
       "0       0  Kemilau Cinta Kamila atau biasa disingkat KCK ...  141607\n",
       "1       0  Republik Chili (), kadang-kadang dieja sebagai...  133775\n",
       "2       0  Josef Vissarionovich Stalin () adalah pemimpin...  129387\n",
       "3       0  Perang Dunia I (PDI) adalah sebuah perang glob...  127190\n",
       "4       0  Sejarah dunia adalah sejarah umat manusia di s...  127135"
      ]
     },
     "execution_count": 23,
     "metadata": {},
     "output_type": "execute_result"
    }
   ],
   "source": [
    "LANG_TEXT.head()"
   ]
  },
  {
   "cell_type": "code",
   "execution_count": 24,
   "metadata": {},
   "outputs": [
    {
     "data": {
      "text/plain": [
       "433390"
      ]
     },
     "execution_count": 24,
     "metadata": {},
     "output_type": "execute_result"
    }
   ],
   "source": [
    "len(LANG_TEXT)"
   ]
  },
  {
   "cell_type": "markdown",
   "metadata": {},
   "source": [
    "## Some statistics of Indonesia Wikipedia"
   ]
  },
  {
   "cell_type": "markdown",
   "metadata": {},
   "source": [
    "### Number of documents"
   ]
  },
  {
   "cell_type": "code",
   "execution_count": 25,
   "metadata": {},
   "outputs": [
    {
     "name": "stdout",
     "output_type": "stream",
     "text": [
      "0    Kemilau Cinta Kamila atau biasa disingkat KCK ...\n",
      "1    Republik Chili (), kadang-kadang dieja sebagai...\n",
      "2    Josef Vissarionovich Stalin () adalah pemimpin...\n",
      "3    Perang Dunia I (PDI) adalah sebuah perang glob...\n",
      "4    Sejarah dunia adalah sejarah umat manusia di s...\n",
      "Name: text, dtype: object\n"
     ]
    },
    {
     "data": {
      "text/plain": [
       "(433390, 3)"
      ]
     },
     "execution_count": 25,
     "metadata": {},
     "output_type": "execute_result"
    }
   ],
   "source": [
    "print(LANG_TEXT['text'][:5])\n",
    "LANG_TEXT.shape"
   ]
  },
  {
   "cell_type": "markdown",
   "metadata": {},
   "source": [
    "### Number of words in all the documents"
   ]
  },
  {
   "cell_type": "code",
   "execution_count": 26,
   "metadata": {},
   "outputs": [
    {
     "data": {
      "text/plain": [
       "63412376"
      ]
     },
     "execution_count": 26,
     "metadata": {},
     "output_type": "execute_result"
    }
   ],
   "source": [
    "def x_split(x):\n",
    "    l = 0\n",
    "    try:\n",
    "        l = len(x.split(\" \"))\n",
    "    except AttributeError:\n",
    "        print(x)\n",
    "    return l\n",
    "\n",
    "LANG_TEXT['text'].apply(lambda x: x_split(x)).sum()    \n",
    "#LANG_TEXT['text'].apply(lambda x: len(x.split(\" \"))).sum()"
   ]
  },
  {
   "cell_type": "markdown",
   "metadata": {},
   "source": [
    "### Number of unique tokens across documents"
   ]
  },
  {
   "cell_type": "code",
   "execution_count": 27,
   "metadata": {},
   "outputs": [
    {
     "data": {
      "text/plain": [
       "3600171"
      ]
     },
     "execution_count": 27,
     "metadata": {},
     "output_type": "execute_result"
    }
   ],
   "source": [
    "len(set(''.join(LANG_TEXT['text'].values).split(\" \")))"
   ]
  },
  {
   "cell_type": "markdown",
   "metadata": {},
   "source": [
    "## Clear plain text"
   ]
  },
  {
   "cell_type": "code",
   "execution_count": 28,
   "metadata": {},
   "outputs": [],
   "source": [
    "re1 = re.compile(r'  +')\n",
    "\n",
    "def fixup(x):\n",
    "    x = x.replace('#39;', \"'\").replace('amp;', '&').replace('#146;', \"'\").replace(\n",
    "        'nbsp;', ' ').replace('#36;', '$').replace('\\\\n', \"\\n\").replace('quot;', \"'\").replace(\n",
    "        '<br />', \"\\n\").replace('\\\\\"', '\"').replace('<unk>','u_n').replace(' @.@ ','.').replace(\n",
    "        ' @-@ ','-').replace('\\\\', ' \\\\ ')\n",
    "    return re1.sub(' ', html.unescape(x))"
   ]
  },
  {
   "cell_type": "markdown",
   "metadata": {},
   "source": [
    "## Tokenize"
   ]
  },
  {
   "cell_type": "code",
   "execution_count": 29,
   "metadata": {},
   "outputs": [],
   "source": [
    "def get_texts(df, n_lbls=1):\n",
    "    labels = df.iloc[:,range(n_lbls)].values.astype(np.int64)\n",
    "    texts = f'\\n{BOS} {FLD} 1 ' + df[n_lbls].astype(str)\n",
    "    for i in range(n_lbls+1, len(df.columns)): \n",
    "        texts += f' {FLD} {i-n_lbls} ' + df[i].astype(str)\n",
    "    texts = texts.apply(fixup).values.astype(str)\n",
    "    tok = Tokenizer().proc_all_mp(partition_by_cores(texts)) # splits the list into sublists for processing by each core\n",
    "    # Lower and upper case is inside the tokenizer\n",
    "    return tok, list(labels)\n",
    "\n",
    "def get_all(df, n_lbls):\n",
    "    tok, labels = [], []\n",
    "    for i, r in enumerate(df):\n",
    "        print(i)\n",
    "        #pdb.set_trace()\n",
    "        tok_, labels_ = get_texts(r, n_lbls)\n",
    "        tok += tok_;\n",
    "        labels += labels_\n",
    "    return tok, labels"
   ]
  },
  {
   "cell_type": "markdown",
   "metadata": {},
   "source": [
    "## Create validation set"
   ]
  },
  {
   "cell_type": "code",
   "execution_count": 30,
   "metadata": {},
   "outputs": [],
   "source": [
    "#LANG_TEXT = pd.read_csv(f\"{PATH_ROOT}/wiki_{LANG}_corpus.csv\")\n",
    "#LANG_TEXT.columns = ['labels', 'text']"
   ]
  },
  {
   "cell_type": "code",
   "execution_count": 31,
   "metadata": {},
   "outputs": [
    {
     "name": "stdout",
     "output_type": "stream",
     "text": [
      "   labels                                               text  length\n",
      "0       0  Kemilau Cinta Kamila atau biasa disingkat KCK ...  141607\n",
      "1       0  Republik Chili (), kadang-kadang dieja sebagai...  133775\n",
      "2       0  Josef Vissarionovich Stalin () adalah pemimpin...  129387\n",
      "3       0  Perang Dunia I (PDI) adalah sebuah perang glob...  127190\n",
      "4       0  Sejarah dunia adalah sejarah umat manusia di s...  127135\n"
     ]
    },
    {
     "data": {
      "text/plain": [
       "(433390, 3)"
      ]
     },
     "execution_count": 31,
     "metadata": {},
     "output_type": "execute_result"
    }
   ],
   "source": [
    "print(LANG_TEXT.head())\n",
    "LANG_TEXT.shape"
   ]
  },
  {
   "cell_type": "code",
   "execution_count": 32,
   "metadata": {},
   "outputs": [],
   "source": [
    "trn_texts,val_texts = sklearn.model_selection.train_test_split(\n",
    "    LANG_TEXT, test_size=0.1) # split the data into train and validation sets"
   ]
  },
  {
   "cell_type": "code",
   "execution_count": 33,
   "metadata": {},
   "outputs": [
    {
     "data": {
      "text/plain": [
       "(390051, 43339)"
      ]
     },
     "execution_count": 33,
     "metadata": {},
     "output_type": "execute_result"
    }
   ],
   "source": [
    "len(trn_texts), len(val_texts)"
   ]
  },
  {
   "cell_type": "code",
   "execution_count": 34,
   "metadata": {},
   "outputs": [],
   "source": [
    "np.random.seed(42)\n",
    "trn_idx = np.random.permutation(len(trn_texts)) # generate a random ordering\n",
    "val_idx = np.random.permutation(len(val_texts))\n",
    "\n",
    "df_trn = trn_texts.iloc[trn_idx,:] # sort things randomly\n",
    "df_val = val_texts.iloc[val_idx,:] # sort things randomly\n",
    "\n",
    "df_trn.columns = ['labels', 'text', 'length']\n",
    "df_val.columns = ['labels', 'text', 'length']\n",
    "\n",
    "df_trn.to_csv(f\"{PATH_ROOT}/wiki_{LANG}_train.csv\", header=False, index=False)\n",
    "df_val.to_csv(f\"{PATH_ROOT}/wiki_{LANG}_test.csv\", header=False, index=False) # saving the data in our new format to disk"
   ]
  },
  {
   "cell_type": "code",
   "execution_count": 35,
   "metadata": {},
   "outputs": [],
   "source": [
    "chunksize = 10000\n",
    "df_trn = pd.read_csv(f\"{PATH_ROOT}/wiki_{LANG}_train.csv\", header=None, chunksize=chunksize)\n",
    "df_val = pd.read_csv(f\"{PATH_ROOT}/wiki_{LANG}_test.csv\", header=None, chunksize=chunksize)"
   ]
  },
  {
   "cell_type": "code",
   "execution_count": 36,
   "metadata": {},
   "outputs": [
    {
     "name": "stdout",
     "output_type": "stream",
     "text": [
      "0\n",
      "1\n",
      "2\n",
      "3\n",
      "4\n",
      "5\n",
      "6\n",
      "7\n",
      "8\n",
      "9\n",
      "10\n",
      "11\n",
      "12\n",
      "13\n",
      "14\n",
      "15\n",
      "16\n",
      "17\n",
      "18\n",
      "19\n",
      "20\n",
      "21\n",
      "22\n",
      "23\n",
      "24\n",
      "25\n",
      "26\n",
      "27\n",
      "28\n",
      "29\n",
      "30\n",
      "31\n",
      "32\n",
      "33\n",
      "34\n",
      "35\n",
      "36\n",
      "37\n",
      "38\n",
      "39\n",
      "0\n",
      "1\n",
      "2\n",
      "3\n",
      "4\n"
     ]
    }
   ],
   "source": [
    "wiki_tok_trn, wiki_trn_labels = get_all(df_trn, 1)\n",
    "wiki_tok_val, wiki_val_labels = get_all(df_val, 1)"
   ]
  },
  {
   "cell_type": "code",
   "execution_count": 37,
   "metadata": {},
   "outputs": [],
   "source": [
    "# create a tmp directory to store the upcoming numpy arrays\n",
    "(PATH_TMP).mkdir(exist_ok=True)\n",
    "\n",
    "# save the train and validation tokens in the tmp directories\n",
    "np.save(PATH_TMP/'wiki_tok_trn.npy', wiki_tok_trn)\n",
    "np.save(PATH_TMP/'wiki_tok_val.npy', wiki_tok_val)"
   ]
  },
  {
   "cell_type": "code",
   "execution_count": 6,
   "metadata": {},
   "outputs": [],
   "source": [
    "wiki_tok_trn = np.load(PATH_TMP/'wiki_tok_trn.npy')\n",
    "wiki_tok_val = np.load(PATH_TMP/'wiki_tok_val.npy')"
   ]
  },
  {
   "cell_type": "code",
   "execution_count": 39,
   "metadata": {},
   "outputs": [
    {
     "name": "stdout",
     "output_type": "stream",
     "text": [
      "Trn: [['\\n', 'xbos', 'xfld', '1', 'i', 'made', 'putra', 'budi', 'sartika', '(;', 'nama', 'asli', 'dari', 'bobby', 'kool', ')', 'adalah', 'personel', 'dari', 'grup', 'musik', 'asal', 'bali', ',', 'indonesia', ',', 'superman', 'is', 'dead', '.', 'di', 'grup', 'superman', 'is', 'dead', ',', 'bobby', 'memainkan', 'instrumen', 'gitar', 'dan', 'sekaligus', 'sebagai', 'vokalis.awal', 'karier', '.', '\\n', 'nama', 'panggilannya', 'ketika', 'masa', 'kanak', '-', 'kanak', 'adalah', 'bobby', 'bikul', '(', 'bikul', 'berarti', 'tikus', 'dalam', 'bahasa', 'bali', ')', '.', 'ketika', 'kariernya', 'dalam', 'musik', 'dimulai', 'ia', 'mengganti', 'namanya', 'menjadi', 'bobby', 'kool', '.', 'masa', 'kanak', '-', 'kanaknya', 'dihabiskan', 'di', 'denpasar', '.', 'ia', 'menyelesaikan', 'kuliahnya', 'di', 'sastra', 'inggris', ',', 'fakultas', 'sastra', 'universitas', 'warmadewa', 'denpasar', '.', 'pada', 'masa', 'perkenalannya', 'dengan', 'musik', 'ia', 'lebih', 'tertarik', 'memainkan', 'alat', 'musik', 'drum', '.', 'ketika', 'ia', 'mulai', 'membentuk', 'sebuah', 'kelompok', 'musik', 'ia', 'baru', 'tertarik', 'pada', 'alat', 'musik', 'gitar', '.', 'selain', 'ketertarikannya', 'dalam', 'musik', 'ia', 'dikenal', 'juga', 'sebagai', 'penggemar', 'sepeda', 'dan', 'seorang', 'disainer', '.', 'ia', 'kerap', 'merakit', 'sebuah', 'sepeda', 'dari', 'rongsokan', 'sepeda', 'yang', 'tidak', 'terpakai', 'atau', 'rusak', '.', 'hobinya', 'terhadap', 'sepeda', 'kelak', 'menjadi', 'salah', 'satu', 'citra', 'khusus', 'pada', 'dirinya', 'ketika', 'mendirikan', 'kelompok', 'musik', 'superman', 'is', 'dead', 'di', 'mana', 'ia', 'memperkenalkan', 'kepada', 'para', 'penggemarnya', 'tentang', 'slogan', '\"', 'lebih', 'baik', 'naik', 'sepeda', '\"', '.', 'profesi', 'lainnya', 'adalah', 'sebagai', 'disainer', 'grafis', ',', 'ia', 'sempat', 'bekerja', 'sebagai', 'disainer', 'untuk', 'sebuah', 'perusahaan', 'majalah', 'kartun', 'di', 'bali', ',', 'sebuah', 'koran', 'surfing', 'di', 'bali', 'dan', 'pada', 'akhirnya', 'bergabung', 'bersama', 'rizal', 'tanjung', 'seorang', 'peselancar', 'nasional', 'mendirikan', 'perusahaan', 'electrohell', 'yang', 'bergerak', 'dalam', 'bidang', 'pembuatan', 'desain', 'pakaian', 'surfing', 'dan', 'mendirikan', 'studio', 'rekaman', '.', 'semua', 'sampul', 'albumnya', 'dirancang', 'sendiri', 'oleh', 'booby', 'kool.perjalanan', 'karier', '.', '\\n', '1995', ':', 'superman', 'silver', 'gun', '.', '\\n', 'pertemuan', 'dirinya', 'dengan', 'jerinx', '(', 'drum', ')', 'dan', 'lolot', '(', 'gitar', 'bass', ')', 'pada', 'tahun', '1995', 'di', 'kuta', 'di', 'mana', 'mereka', 'memiliki', 'minat', 'sama', 'pada', 'musik', 'dilanjutkan', 'dengan', 'pembentukan', 'kelompok', 'musik', 'bernama', 'superman', 'silver', 'gun', ',', 'nama', 'ini', 'diambil', 'dari', 'sebuah', 'lagu', 'milik', 'stone', 'temple', 'pilots', '.', 'bobby', 'kool', 'mengambil', 'posisi', 'sebagai', 'pemain', 'gitar', 'dan', 'penyanyi', 'dalam', 'kelompok', 'musik', 'ini', '.', 'pada', 'awalnya', 'mereka', 'kerap', 'membawakan', 'lagu', '-', 'lagu', 'dari', 'green', 'day', 'dan', 'mengisi', 'acara', 'pada', 'panggung', '-', 'panggung', 'lokal', 'di', 'bali.1995', '-', '2002', ':', 'superman', 'is', 'dead', '(', 'indie', ')', '.', '\\n', 'pada', 'perkembangan', 'superman', 'silver', 'gun', ',', 'mereka', 'menemukan', 'sebuah', 'konsep', 'tentang', 'bahwa', 'tak', 'ada', 'manusia', 'yang', 'sempurna', '.', 'konsep', 'ini', 'menyebabkan', 'pergantian', 'nama', 'kelompok', 'mereka', 'menjadi', 'superman', 'is', 'dead', 'yang', 'dianggap', 'cocok', '.', 'nama', 'superman', 'is', 'dead', 'biasa', 'disingkat', 'menjadi', 't_up', 'sid', '.', 'pada', 'masa', 'tersebut', 'kelompok', 't_up', 'sid', 'sempat', 'berganti', 'pemain', 'gitar', 'bass', 'dari', 'lolot', 'kemudian', 'terakhir', 'eka', 'rock', '.', 'pada', 'masa', 'ini', 'mereka', 'telah', 'menciptakan', 'lagunya', 'sendiri', 'menghasilkan', 'tiga', 'album', 'indie', ':', 'case', '15', '(', '1997', ')', ',', 'superman', 'is', 'dead', '(', 'album', ')', '(', '1998', '/', '1999', ')', ',', 'dan', 'bad', 'bad', 'bad', '(', '2002)2001', ':', 'croto', 'chip', '.', '\\n', 'pada', 'masa', 'merebaknya', 'pengaruh', 'musik', 'ska', 'di', 'indonesia', ',', 'bobby', 'membuat', 'sebuah', 'proyek', 'kelompok', 'musik', 'indie', 'yang', 'mengusung', 'aliran', 'ska', 'bernama', 'croto', 'chip', 'dan', 'melahirkan', 'sebuah', 'album', 'bertajuk', '\"', 'percuma\".2003-sekarang', ':', 'superman', 'is', 'dead', '(', 'mayor', 'label', ')', '.', '\\n', 'pada', 'tahun', '2003', 'superman', 'is', 'dead', 'secara', 'resmi', 'berada', 'dalam', 'naungan', 'label', 'sony', 'music', 'indonesia', ',', 'ditandai', 'dengan', 'dirilisnya', 'album', 'kuta', 'rock', 'city', '.', 'album', 'pertama', 'mereka', 'menuai', 'kesuksesan', 'yang', 'dilanjutkan', 'dengan', 'rilisnya', 'album', '-', 'album', 'superman', 'is', 'dead', 'yang', 'lain', ',', 'the', 'hangover', 'decade', '(', '2005', ')', ',', 'black', 'market', 'love', '(', '2006', ')', ',', 'angels', '&', 'the', 'outsiders', '(', '2009', ')', ',', 'aku', 'anak', 'indonesia', '(', 'single', ')', '(', '2011', ')', ',', 'the', 'early', 'years', ',', 'blood', ',', 'sweet', 'and', 'tears', '(', '2012', ')', 'dalam', 'format', 'vinyl', 'dan', 'sunset', 'di', 'tanah', 'anarki', '(', '2013', ')', '.', 'xfld', '1', '3363'], ['\\n', 'xbos', 'xfld', '1', 'orang', 'chindia', 'adalah', 'sebuah', 'istilah', 'informal', 'yang', 'digunakan', 'untuk', 'merujuk', 'kepada', 'orang', 'berketurunan', 'tionghoa', 'dan', 'india', '.', 'terdapat', 'sejumlah', 'besar', 'orang', 'chindia', 'di', 'malaysia', 'dan', 'singapura', ',', 'dimana', 'orang', 'tionghoa', 'dan', 'indian', 'berimigrasi', 'dalam', 'jumlah', 'besar', 'pada', 'abad', 'ke-19', '.', 'terdapat', 'juga', 'yang', 'tinggal', 'di', 'hong', 'kong', 'dan', 'sejumlah', 'kecil', 'di', 'negara', 'lainnya', 'berpenduduk', 'tionghoa', 'perantauan', 'dan', 'diaspora', 'india', ',', 'seperti', 'jamaika', ',', 'trinidad', 'dan', 'tobago', 'dan', 'guyana', 'di', 'caribbean', ',', 'serta', 'di', 'thailand', ',', 'amerika', 'serikat', ',', 'britania', 'raya', ',', 'kanada', ',', 'selandia', 'baru', '.', 'xfld', '1', '530']] \n",
      "\n"
     ]
    }
   ],
   "source": [
    "print(\"Trn:\", wiki_tok_trn[:2], \"\\n\")"
   ]
  },
  {
   "cell_type": "code",
   "execution_count": 46,
   "metadata": {},
   "outputs": [
    {
     "data": {
      "text/html": [
       "<div>\n",
       "<style scoped>\n",
       "    .dataframe tbody tr th:only-of-type {\n",
       "        vertical-align: middle;\n",
       "    }\n",
       "\n",
       "    .dataframe tbody tr th {\n",
       "        vertical-align: top;\n",
       "    }\n",
       "\n",
       "    .dataframe thead th {\n",
       "        text-align: right;\n",
       "    }\n",
       "</style>\n",
       "<table border=\"1\" class=\"dataframe\">\n",
       "  <thead>\n",
       "    <tr style=\"text-align: right;\">\n",
       "      <th></th>\n",
       "      <th>0</th>\n",
       "    </tr>\n",
       "  </thead>\n",
       "  <tbody>\n",
       "    <tr>\n",
       "      <th>,</th>\n",
       "      <td>3677884</td>\n",
       "    </tr>\n",
       "    <tr>\n",
       "      <th>.</th>\n",
       "      <td>2876800</td>\n",
       "    </tr>\n",
       "    <tr>\n",
       "      <th>dan</th>\n",
       "      <td>1680702</td>\n",
       "    </tr>\n",
       "    <tr>\n",
       "      <th>yang</th>\n",
       "      <td>1675407</td>\n",
       "    </tr>\n",
       "    <tr>\n",
       "      <th>di</th>\n",
       "      <td>1255488</td>\n",
       "    </tr>\n",
       "    <tr>\n",
       "      <th>\"</th>\n",
       "      <td>1226023</td>\n",
       "    </tr>\n",
       "    <tr>\n",
       "      <th>\\n</th>\n",
       "      <td>887765</td>\n",
       "    </tr>\n",
       "    <tr>\n",
       "      <th>1</th>\n",
       "      <td>835020</td>\n",
       "    </tr>\n",
       "    <tr>\n",
       "      <th>-</th>\n",
       "      <td>820385</td>\n",
       "    </tr>\n",
       "    <tr>\n",
       "      <th>dari</th>\n",
       "      <td>816201</td>\n",
       "    </tr>\n",
       "    <tr>\n",
       "      <th>xfld</th>\n",
       "      <td>780102</td>\n",
       "    </tr>\n",
       "    <tr>\n",
       "      <th>pada</th>\n",
       "      <td>771101</td>\n",
       "    </tr>\n",
       "    <tr>\n",
       "      <th>ini</th>\n",
       "      <td>755072</td>\n",
       "    </tr>\n",
       "    <tr>\n",
       "      <th>(</th>\n",
       "      <td>635258</td>\n",
       "    </tr>\n",
       "    <tr>\n",
       "      <th>dengan</th>\n",
       "      <td>630829</td>\n",
       "    </tr>\n",
       "    <tr>\n",
       "      <th>adalah</th>\n",
       "      <td>618909</td>\n",
       "    </tr>\n",
       "    <tr>\n",
       "      <th>)</th>\n",
       "      <td>605400</td>\n",
       "    </tr>\n",
       "    <tr>\n",
       "      <th>t_up</th>\n",
       "      <td>526718</td>\n",
       "    </tr>\n",
       "    <tr>\n",
       "      <th>untuk</th>\n",
       "      <td>515051</td>\n",
       "    </tr>\n",
       "    <tr>\n",
       "      <th>dalam</th>\n",
       "      <td>511646</td>\n",
       "    </tr>\n",
       "    <tr>\n",
       "      <th>tahun</th>\n",
       "      <td>414816</td>\n",
       "    </tr>\n",
       "    <tr>\n",
       "      <th>xbos</th>\n",
       "      <td>390051</td>\n",
       "    </tr>\n",
       "    <tr>\n",
       "      <th>oleh</th>\n",
       "      <td>343747</td>\n",
       "    </tr>\n",
       "    <tr>\n",
       "      <th>sebagai</th>\n",
       "      <td>329886</td>\n",
       "    </tr>\n",
       "    <tr>\n",
       "      <th>juga</th>\n",
       "      <td>296723</td>\n",
       "    </tr>\n",
       "  </tbody>\n",
       "</table>\n",
       "</div>"
      ],
      "text/plain": [
       "               0\n",
       ",        3677884\n",
       ".        2876800\n",
       "dan      1680702\n",
       "yang     1675407\n",
       "di       1255488\n",
       "\"        1226023\n",
       "\\n        887765\n",
       "1         835020\n",
       "-         820385\n",
       "dari      816201\n",
       "xfld      780102\n",
       "pada      771101\n",
       "ini       755072\n",
       "(         635258\n",
       "dengan    630829\n",
       "adalah    618909\n",
       ")         605400\n",
       "t_up      526718\n",
       "untuk     515051\n",
       "dalam     511646\n",
       "tahun     414816\n",
       "xbos      390051\n",
       "oleh      343747\n",
       "sebagai   329886\n",
       "juga      296723"
      ]
     },
     "execution_count": 46,
     "metadata": {},
     "output_type": "execute_result"
    }
   ],
   "source": [
    "# Get the Counter object from all the splitted files.\n",
    "# Identify the most common tokens\n",
    "freq = Counter(p for o in wiki_tok_trn for p in o) \n",
    "freqs = pd.DataFrame.from_dict(freq, orient=\"index\")\n",
    "freqs.sort_values(0, ascending=False).head(25)"
   ]
  },
  {
   "cell_type": "code",
   "execution_count": 47,
   "metadata": {},
   "outputs": [
    {
     "data": {
      "text/plain": [
       "73009286"
      ]
     },
     "execution_count": 47,
     "metadata": {},
     "output_type": "execute_result"
    }
   ],
   "source": [
    "# Sanity check\n",
    "len([p for o in wiki_tok_trn for p in o])"
   ]
  },
  {
   "cell_type": "code",
   "execution_count": 49,
   "metadata": {},
   "outputs": [],
   "source": [
    "cnt = []\n",
    "for i in range(49):\n",
    "    row_cnt = freqs[freqs[0]>=i+1].shape[0]\n",
    "    cnt.append(row_cnt)"
   ]
  },
  {
   "cell_type": "code",
   "execution_count": 50,
   "metadata": {},
   "outputs": [
    {
     "data": {
      "text/plain": [
       "<matplotlib.lines.Line2D at 0x7fa47d5c0278>"
      ]
     },
     "execution_count": 50,
     "metadata": {},
     "output_type": "execute_result"
    },
    {
     "data": {
      "image/png": "[encoded data removed]",
      "text/plain": [
       "<Figure size 432x288 with 1 Axes>"
      ]
     },
     "metadata": {},
     "output_type": "display_data"
    }
   ],
   "source": [
    "plt.plot(cnt)\n",
    "plt.axvline(x=2, color=\"red\", linestyle=\"--\")"
   ]
  },
  {
   "cell_type": "markdown",
   "metadata": {},
   "source": [
    "## Numericalize the text"
   ]
  },
  {
   "cell_type": "code",
   "execution_count": 51,
   "metadata": {},
   "outputs": [],
   "source": [
    "# Truncating our vocab to ignore the rare words\n",
    "max_vocab = 60000\n",
    "min_freq = 5\n",
    "\n",
    "wiki_itos = [o for o,c in freq.most_common(max_vocab) if c>min_freq] # getting rid of the rare words\n",
    "wiki_itos.insert(0, '_pad_') # \n",
    "wiki_itos.insert(0, '_unk_') # wiki_itos is the list of all the strings in the vocab"
   ]
  },
  {
   "cell_type": "code",
   "execution_count": 52,
   "metadata": {},
   "outputs": [
    {
     "data": {
      "text/plain": [
       "60002"
      ]
     },
     "execution_count": 52,
     "metadata": {},
     "output_type": "execute_result"
    }
   ],
   "source": [
    "# creating a index-key dictionary for our vocabulary\n",
    "wiki_stoi = collections.defaultdict(lambda:0, {v:k for k,v in enumerate(wiki_itos)})\n",
    "len(wiki_itos)"
   ]
  },
  {
   "cell_type": "code",
   "execution_count": 53,
   "metadata": {},
   "outputs": [],
   "source": [
    "# creating a index representation for our train and validation dataset\n",
    "wiki_trn_lm = np.array([[wiki_stoi[o] for o in p] for p in wiki_tok_trn])\n",
    "wiki_val_lm = np.array([[wiki_stoi[o] for o in p] for p in wiki_tok_val])"
   ]
  },
  {
   "cell_type": "code",
   "execution_count": 54,
   "metadata": {},
   "outputs": [],
   "source": [
    "# saving our indexed representation of our dataset to disk\n",
    "# we also save the index-word mapping to retrieve the complete text representation from these numpy arrays\n",
    "np.save(PATH_TMP/'wiki_trn_ids.npy', wiki_trn_lm)\n",
    "np.save(PATH_TMP/'wiki_val_ids.npy', wiki_val_lm)\n",
    "pickle.dump(wiki_itos, open(f'{PATH_ROOT}/wiki_{LANG}_itos.pkl', 'wb'))"
   ]
  },
  {
   "cell_type": "code",
   "execution_count": 4,
   "metadata": {},
   "outputs": [],
   "source": [
    "# Loading the indexed representation of our dataset from disk\n",
    "# we also load the index-word mapping to to help us convert the indexes to word datasets, if need be.\n",
    "trn_lm = np.load(PATH_TMP/'wiki_trn_ids.npy')\n",
    "val_lm = np.load(PATH_TMP/'wiki_val_ids.npy')\n",
    "wiki_itos = pickle.load(open(f'{PATH_ROOT}/wiki_{LANG}_itos.pkl', 'rb'))"
   ]
  },
  {
   "cell_type": "code",
   "execution_count": 5,
   "metadata": {},
   "outputs": [],
   "source": [
    "# checking vocabulary size\n",
    "vs=len(wiki_itos)\n",
    "word_count = 0\n",
    "for i in trn_lm:\n",
    "    word_count += len(trn_lm[i])"
   ]
  },
  {
   "cell_type": "code",
   "execution_count": 6,
   "metadata": {},
   "outputs": [
    {
     "name": "stdout",
     "output_type": "stream",
     "text": [
      "vocabulary size: 60002, #articles: 390051, #words: 73009286\n"
     ]
    }
   ],
   "source": [
    "print(f'vocabulary size: {vs}, #articles: {len(trn_lm)}, #words: {word_count}')"
   ]
  },
  {
   "cell_type": "markdown",
   "metadata": {},
   "source": [
    "# Model Setup"
   ]
  },
  {
   "cell_type": "markdown",
   "metadata": {},
   "source": [
    "# Language Model"
   ]
  },
  {
   "cell_type": "code",
   "execution_count": 7,
   "metadata": {},
   "outputs": [],
   "source": [
    "em_sz,nh,nl = 400,1150,3\n",
    "\n",
    "wd=1e-7\n",
    "bptt=70\n",
    "#bs=52\n",
    "bs=40\n",
    "#opt_fn = partial(optim.Adam, betas=(0.8, 0.99))\n",
    "opt_fn = partial(optim.SGD, momentum=0.9)\n",
    "weight_factor = 0.3"
   ]
  },
  {
   "cell_type": "code",
   "execution_count": 8,
   "metadata": {},
   "outputs": [],
   "source": [
    "drops = np.array([0.25, 0.1, 0.2, 0.02, 0.15])*weight_factor"
   ]
  },
  {
   "cell_type": "code",
   "execution_count": 9,
   "metadata": {},
   "outputs": [
    {
     "name": "stdout",
     "output_type": "stream",
     "text": [
      "CPU times: user 2 µs, sys: 0 ns, total: 2 µs\n",
      "Wall time: 4.29 µs\n"
     ]
    }
   ],
   "source": [
    "%time\n",
    "\n",
    "trn_dl = LanguageModelLoader(np.concatenate(trn_lm), bs, bptt)\n",
    "val_dl = LanguageModelLoader(np.concatenate(val_lm), bs, bptt)\n",
    "md = LanguageModelData(PATH_ROOT, 1, vs, trn_dl, val_dl, bs=bs, bptt=bptt)"
   ]
  },
  {
   "cell_type": "code",
   "execution_count": 10,
   "metadata": {},
   "outputs": [],
   "source": [
    "learner= md.get_model(opt_fn, em_sz, nh, nl, \n",
    "    dropouti=drops[0], dropout=drops[1], wdrop=drops[2], dropoute=drops[3], dropouth=drops[4])\n",
    "\n",
    "learner.metrics = [accuracy]\n",
    "learner.clip = 0.2\n",
    "learner.unfreeze()"
   ]
  },
  {
   "cell_type": "code",
   "execution_count": 11,
   "metadata": {},
   "outputs": [
    {
     "data": {
      "text/plain": [
       "<bound method Learner.summary of SequentialRNN(\n",
       "  (0): RNN_Encoder(\n",
       "    (encoder): Embedding(60002, 400, padding_idx=1)\n",
       "    (encoder_with_dropout): EmbeddingDropout(\n",
       "      (embed): Embedding(60002, 400, padding_idx=1)\n",
       "    )\n",
       "    (rnns): ModuleList(\n",
       "      (0): WeightDrop(\n",
       "        (module): LSTM(400, 1150)\n",
       "      )\n",
       "      (1): WeightDrop(\n",
       "        (module): LSTM(1150, 1150)\n",
       "      )\n",
       "      (2): WeightDrop(\n",
       "        (module): LSTM(1150, 400)\n",
       "      )\n",
       "    )\n",
       "    (dropouti): LockedDropout(\n",
       "    )\n",
       "    (dropouths): ModuleList(\n",
       "      (0): LockedDropout(\n",
       "      )\n",
       "      (1): LockedDropout(\n",
       "      )\n",
       "      (2): LockedDropout(\n",
       "      )\n",
       "    )\n",
       "  )\n",
       "  (1): LinearDecoder(\n",
       "    (decoder): Linear(in_features=400, out_features=60002, bias=False)\n",
       "    (dropout): LockedDropout(\n",
       "    )\n",
       "  )\n",
       ")>"
      ]
     },
     "execution_count": 11,
     "metadata": {},
     "output_type": "execute_result"
    }
   ],
   "source": [
    "# AWD-LSTM network\n",
    "learner.summary"
   ]
  },
  {
   "cell_type": "code",
   "execution_count": 66,
   "metadata": {},
   "outputs": [
    {
     "data": {
      "application/vnd.jupyter.widget-view+json": {
       "model_id": "9b211bd2705b45c2a28cae563b1a10f7",
       "version_major": 2,
       "version_minor": 0
      },
      "text/plain": [
       "HBox(children=(IntProgress(value=0, description='Epoch', max=1), HTML(value='')))"
      ]
     },
     "metadata": {},
     "output_type": "display_data"
    },
    {
     "name": "stdout",
     "output_type": "stream",
     "text": [
      "  4%|▍         | 1000/26073 [04:19<1:48:22,  3.86it/s, loss=7.57]"
     ]
    }
   ],
   "source": [
    "learner.lr_find2(num_it=1000)"
   ]
  },
  {
   "cell_type": "code",
   "execution_count": 67,
   "metadata": {
    "scrolled": true
   },
   "outputs": [
    {
     "data": {
      "image/png": "[encoded data removed]",
      "text/plain": [
       "<Figure size 432x864 with 3 Axes>"
      ]
     },
     "metadata": {},
     "output_type": "display_data"
    }
   ],
   "source": [
    "learner.sched.plot()"
   ]
  },
  {
   "cell_type": "code",
   "execution_count": 12,
   "metadata": {},
   "outputs": [],
   "source": [
    "# Set learning rate\n",
    "lr = 8"
   ]
  },
  {
   "cell_type": "code",
   "execution_count": 13,
   "metadata": {},
   "outputs": [],
   "source": [
    "# we can load the trained model and re-train again\n",
    "learner.load(f'wiki_{LANG}_1cycle_best')"
   ]
  },
  {
   "cell_type": "code",
   "execution_count": 14,
   "metadata": {},
   "outputs": [
    {
     "data": {
      "application/vnd.jupyter.widget-view+json": {
       "model_id": "35f7ff22d1ce44899c1f7f09616dd3bb",
       "version_major": 2,
       "version_minor": 0
      },
      "text/plain": [
       "HBox(children=(IntProgress(value=0, description='Epoch', max=10), HTML(value='')))"
      ]
     },
     "metadata": {},
     "output_type": "display_data"
    },
    {
     "name": "stdout",
     "output_type": "stream",
     "text": [
      "epoch      trn_loss   val_loss   accuracy                         \n",
      "    0      3.540105   3.552252   0.364585  \n",
      "    1      3.584985   3.543127   0.366068                         \n",
      "    2      3.441354   3.53446    0.367475                         \n",
      "    3      3.50821    3.52739    0.368057                         \n",
      "    4      3.425858   3.523544   0.367965                         \n",
      "    5      3.477638   3.5003     0.371117                         \n",
      " 35%|███▌      | 9240/26073 [29:25<53:36,  5.23it/s, loss=3.33]  "
     ]
    },
    {
     "name": "stderr",
     "output_type": "stream",
     "text": [
      "IOPub message rate exceeded.\n",
      "The notebook server will temporarily stop sending output\n",
      "to the client in order to avoid crashing it.\n",
      "To change this limit, set the config variable\n",
      "`--NotebookApp.iopub_msg_rate_limit`.\n",
      "\n",
      "Current values:\n",
      "NotebookApp.iopub_msg_rate_limit=1000.0 (msgs/sec)\n",
      "NotebookApp.rate_limit_window=3.0 (secs)\n",
      "\n"
     ]
    },
    {
     "name": "stdout",
     "output_type": "stream",
     "text": [
      " 68%|██████▊   | 17749/26073 [56:32<26:31,  5.23it/s, loss=3.33]"
     ]
    },
    {
     "name": "stderr",
     "output_type": "stream",
     "text": [
      "IOPub message rate exceeded.\n",
      "The notebook server will temporarily stop sending output\n",
      "to the client in order to avoid crashing it.\n",
      "To change this limit, set the config variable\n",
      "`--NotebookApp.iopub_msg_rate_limit`.\n",
      "\n",
      "Current values:\n",
      "NotebookApp.iopub_msg_rate_limit=1000.0 (msgs/sec)\n",
      "NotebookApp.rate_limit_window=3.0 (secs)\n",
      "\n"
     ]
    },
    {
     "name": "stdout",
     "output_type": "stream",
     "text": [
      "Validation:  16%|█▌        | 447/2873 [00:32<02:57, 13.67it/s]    "
     ]
    },
    {
     "name": "stderr",
     "output_type": "stream",
     "text": [
      "IOPub message rate exceeded.\n",
      "The notebook server will temporarily stop sending output\n",
      "to the client in order to avoid crashing it.\n",
      "To change this limit, set the config variable\n",
      "`--NotebookApp.iopub_msg_rate_limit`.\n",
      "\n",
      "Current values:\n",
      "NotebookApp.iopub_msg_rate_limit=1000.0 (msgs/sec)\n",
      "NotebookApp.rate_limit_window=3.0 (secs)\n",
      "\n"
     ]
    },
    {
     "name": "stdout",
     "output_type": "stream",
     "text": [
      "    7      3.336928   3.469808   0.37458                          \n",
      "    8      3.321467   3.440167   0.37694                          \n",
      "    9      3.403565   3.392843   0.382901                         \n",
      "\n"
     ]
    },
    {
     "data": {
      "text/plain": [
       "[array([3.39284]), 0.3829011047110506]"
      ]
     },
     "execution_count": 14,
     "metadata": {},
     "output_type": "execute_result"
    }
   ],
   "source": [
    "learner.fit(lr, 1, wds=wd, cycle_len=10, use_clr=(10,33,0.95,0.85), best_save_name=f'wiki_{LANG}_1cycle_best')"
   ]
  },
  {
   "cell_type": "code",
   "execution_count": 15,
   "metadata": {},
   "outputs": [],
   "source": [
    "learner.save(f'wiki_{LANG}_lm')\n",
    "learner.save_encoder(f'wiki_{LANG}_lm_enc')"
   ]
  },
  {
   "cell_type": "code",
   "execution_count": 16,
   "metadata": {},
   "outputs": [],
   "source": [
    "learner.load(f'wiki_{LANG}_lm')\n",
    "learner.load_encoder(f'wiki_{LANG}_lm_enc')"
   ]
  },
  {
   "cell_type": "code",
   "execution_count": 17,
   "metadata": {},
   "outputs": [
    {
     "data": {
      "image/png": "[encoded data removed]",
      "text/plain": [
       "<Figure size 432x288 with 1 Axes>"
      ]
     },
     "metadata": {},
     "output_type": "display_data"
    }
   ],
   "source": [
    "learner.sched.plot_loss()"
   ]
  },
  {
   "cell_type": "code",
   "execution_count": 18,
   "metadata": {},
   "outputs": [
    {
     "data": {
      "text/plain": [
       "29.725343546388515"
      ]
     },
     "execution_count": 18,
     "metadata": {},
     "output_type": "execute_result"
    }
   ],
   "source": [
    "# The perplexity of this language model after 15 epochs is 31.03\n",
    "np.exp(3.392)"
   ]
  },
  {
   "cell_type": "markdown",
   "metadata": {},
   "source": [
    "# Train again the pre-trained model"
   ]
  },
  {
   "cell_type": "code",
   "execution_count": 12,
   "metadata": {},
   "outputs": [],
   "source": [
    "learner.load(f'wiki_{LANG}_lm')\n",
    "learner.load_encoder(f'wiki_{LANG}_lm_enc')"
   ]
  },
  {
   "cell_type": "markdown",
   "metadata": {},
   "source": [
    "## Generate sentence using the language model"
   ]
  },
  {
   "cell_type": "code",
   "execution_count": 13,
   "metadata": {},
   "outputs": [],
   "source": [
    "LANG = 'id'\n",
    "LM_PATH = Path(f'lmdata/{LANG}/')\n",
    "LM_PATH_MODEL = f'{LM_PATH}/models/wiki_{LANG}_lm.h5'\n",
    "LM_PATH_ITOS = f'{LM_PATH}/wiki_{LANG}_itos.pkl'\n",
    "#LM_PATH_MODEL = f'{LM_PATH}/models/lm_indonesia_final.h5'\n",
    "#LM_PATH_ITOS = f'/mnt/mldata/data/LM/imdb_data/id/lm/tmp/itos.pkl'"
   ]
  },
  {
   "cell_type": "code",
   "execution_count": 14,
   "metadata": {},
   "outputs": [
    {
     "name": "stdout",
     "output_type": "stream",
     "text": [
      "vs: 60002\n"
     ]
    }
   ],
   "source": [
    "wiki_itos = pickle.load(open(LM_PATH_ITOS, 'rb'))\n",
    "wiki_stoi = collections.defaultdict(lambda:0, {v:k for k,v in enumerate(wiki_itos)})\n",
    "vs = len(wiki_itos)\n",
    "print(\"vs:\", vs)"
   ]
  },
  {
   "cell_type": "code",
   "execution_count": 15,
   "metadata": {},
   "outputs": [],
   "source": [
    "em_sz,nh,nl = 400,1150,3\n",
    "\n",
    "seq_rnn = get_language_model(vs, em_sz, nh, nl, 1)\n",
    "lm = LanguageModel(to_gpu(seq_rnn))\n",
    "load_model(seq_rnn, LM_PATH_MODEL)"
   ]
  },
  {
   "cell_type": "code",
   "execution_count": 16,
   "metadata": {},
   "outputs": [],
   "source": [
    "seq_rnn.eval()\n",
    "seq_rnn[0].bs = 1"
   ]
  },
  {
   "cell_type": "code",
   "execution_count": 19,
   "metadata": {},
   "outputs": [],
   "source": [
    "def generate_text(ss,topk):\n",
    "    s = ss.strip().split(\" \")\n",
    "    t = LongTensor([wiki_stoi[i] for i in s]).view(-1,1).cuda()\n",
    "    t = Variable(t,volatile=False)\n",
    "    seq_rnn.reset()\n",
    "    pred,*_ = m(t)\n",
    "    pred_i = torch.topk(pred[-1], topk)[1]\n",
    "    return [wiki_itos[o] for o in to_np(pred_i)]\n",
    "\n",
    "def generate_sentence(ss,nb_words):\n",
    "    result = []\n",
    "    s = ss.strip().split(\" \")\n",
    "    t = LongTensor([wiki_stoi[i] for i in s]).view(-1,1).cuda()\n",
    "    t = Variable(t,volatile=False)\n",
    "    seq_rnn.reset()\n",
    "    pred,*_ = seq_rnn(t)\n",
    "    for i in range(nb_words):\n",
    "        pred_i = pred[-1].topk(2)[1]\n",
    "        pred_i = pred_i[1] if pred_i.data[0] < 2 else pred_i[0]\n",
    "        word = wiki_itos[pred_i.data[0]]\n",
    "        if word != 'xfld':\n",
    "            result.append(word)\n",
    "        else:\n",
    "            break\n",
    "        pred,*_ = seq_rnn(pred_i[0].unsqueeze(0))\n",
    "    \n",
    "    result = re.sub('\\s+([.,])', r'\\1', \"{} {}\".format(ss, \" \".join(result).rstrip()))\n",
    "    return(result)"
   ]
  },
  {
   "cell_type": "code",
   "execution_count": null,
   "metadata": {},
   "outputs": [
    {
     "name": "stdout",
     "output_type": "stream",
     "text": [
      "jika ibu bersedih sepanjang hari, maka akan terjadi perubahan dalam kehidupan masyarakat. \n",
      " pada tahun 2007, pemerintah indonesia mengumumkan bahwa mereka akan melakukan perubahan dalam hal ini. pada tahun 2008, pemerintah indonesia mengumumkan bahwa mereka akan melakukan perubahan dalam hal ini. pada tahun 2009, pemerintah indonesia mengumumkan bahwa mereka akan melakukan perubahan dalam hal ini. pada tahun 2010, pemerintah indonesia mengumumkan bahwa mereka akan melakukan perubahan dalam hal ini. pada bulan desember 2011, pemerintah \n",
      "\n",
      "orang baduy adalah orang yang memiliki kemampuan untuk melakukan hal - hal yang tidak diinginkan. pada tahun 2005, sebuah survei yang dilakukan oleh \" the new york times \" melaporkan bahwa sekitar 70 % dari populasi yang berusia di atas 18 tahun, dan 40 % yang berusia di bawah 18 tahun, telah menjadi anggota t_up pbb. pada tahun 2007, t_up who memperkirakan bahwa sekitar 50 % dari populasi yang tinggal di amerika serikat adalah orang indonesia, \n",
      "\n",
      "presiden soekarno adalah salah satu dari tiga orang yang dipilih oleh presiden soekarno untuk menjadi presiden. \n",
      "\n",
      "jatuh cinta disebabkan oleh perbedaan pendapat mengenai apakah itu adalah sebuah \" single \" atau \" single \". \n",
      " pada tahun 2006, sebuah artikel yang berjudul \" the best of the best of the best \" diterbitkan oleh majalah \" time \". pada tahun 2007, majalah \" time \" menerbitkan sebuah artikel yang menyatakan bahwa \" the new york times \" telah menulis bahwa \" the new york times \" \" adalah sebuah majalah yang sangat terkenal di amerika \n",
      "\n",
      "laki laki jatuh cinta adalah sebuah bentuk dari hubungan antara laki - laki dan perempuan. pada tahun 2005, sebuah jajak pendapat yang dilakukan oleh \" the new york times \" melaporkan bahwa sekitar 50 % dari orang tua yang telah menikah dengan orang tua mereka telah menikah. pada tahun 2007, sebuah jajak pendapat yang dilakukan oleh \" the new york times \" melaporkan bahwa sekitar 40 % orang tua dan 18 % orang tua yang telah menikah di amerika serikat telah \n",
      "\n"
     ]
    }
   ],
   "source": [
    "strings = [\"jika ibu bersedih sepanjang hari\",\n",
    "           \"orang baduy adalah\",\n",
    "           \"presiden soekarno adalah\",\n",
    "           \"jatuh cinta disebabkan\",\n",
    "           \"laki laki jatuh cinta adalah\",\n",
    "           \"gadis jatuh cinta disebabkan\",\n",
    "           \"seks dan cinta adalah\",\n",
    "           \"borobudur adalah warisan\",\n",
    "           \"anak balita adalah\",\n",
    "           \"ibukota rusia adalah\",\n",
    "           \"australia terletak\",\n",
    "           \"dangdut adalah musik\"\n",
    "          ]\n",
    "\n",
    "for s in strings:\n",
    "    print(generate_sentence(s, 80), \"\\n\")\n",
    "    "
   ]
  },
  {
   "cell_type": "code",
   "execution_count": null,
   "metadata": {},
   "outputs": [],
   "source": []
  },
  {
   "cell_type": "code",
   "execution_count": null,
   "metadata": {},
   "outputs": [],
   "source": []
  }
 ],
 "metadata": {
  "gist": {
   "data": {
    "description": "mywork/Telugu_Language_Model.ipynb",
    "public": false
   },
   "id": ""
  },
  "kernelspec": {
   "display_name": "Python 3",
   "language": "python",
   "name": "python3"
  },
  "language_info": {
   "codemirror_mode": {
    "name": "ipython",
    "version": 3
   },
   "file_extension": ".py",
   "mimetype": "text/x-python",
   "name": "python",
   "nbconvert_exporter": "python",
   "pygments_lexer": "ipython3",
   "version": "3.6.5"
  }
 },
 "nbformat": 4,
 "nbformat_minor": 2
}
